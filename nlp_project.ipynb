{
 "cells": [
  {
   "cell_type": "markdown",
   "metadata": {},
   "source": [
    "# ENSAE - ML for NLP Project"
   ]
  },
  {
   "cell_type": "markdown",
   "metadata": {},
   "source": [
    "# 1. Introduction"
   ]
  },
  {
   "cell_type": "markdown",
   "metadata": {},
   "source": [
    "Please make sure to have the following packages installed in your environment so that you can run the following cell without errors."
   ]
  },
  {
   "cell_type": "code",
   "execution_count": 1,
   "metadata": {},
   "outputs": [],
   "source": [
    "# package import\n",
    "import pandas as pd\n",
    "import numpy as np\n",
    "import matplotlib.pyplot as plt\n",
    "from sklearn.model_selection import train_test_split, cross_val_score, cross_validate\n",
    "from sklearn.linear_model import LogisticRegression\n",
    "from sklearn.metrics import classification_report, confusion_matrix, ConfusionMatrixDisplay, roc_curve, auc, RocCurveDisplay\n",
    "from sklearn import tree\n",
    "from sklearn.tree import DecisionTreeClassifier\n",
    "from sklearn.tree import export_graphviz\n",
    "from Levenshtein import distance as levenshtein_distance\n",
    "from IPython.display import display"
   ]
  },
  {
   "cell_type": "markdown",
   "metadata": {},
   "source": [
    "## 1.1 Description of the context\n",
    "\n",
    "The Socface project brings together archivists, demographers and computer scientists to analyze French census documents and extract information on a very large scale. The aim is to collect and process all handwritten nominal census lists from 1836 to 1936, using automatic handwriting recognition.\n",
    "\n",
    "Produced every five years, these lists are organized spatially (commune; neighborhoods, hamlets or streets; houses; households) and summarize census information, listing each individual with certain characteristics, such as name, year of birth or occupation.\n",
    "\n",
    "The project aims to leverage this archival material to produce a database of all individuals who lived in France between 1836 and 1936, which will be used to analyze social change over a 100-year period. A major impact of Socface will be public access to the nominative lists: they will be made available free of charge, enabling anyone to browse through hundreds of millions of records.\n",
    "\n",
    "As shown in the figure above, the data is presented in tabular form. One of the main difficulties of this project and of processing these documents lies in the fact that tabular formats have evolved over the 100 years studied: columns have changed (age vs. year of birth), as has their order on the page. In addition, the quality of preservation varies from one year to the next, and from one archive to the next. The sheer number of handwriters makes the task even more complex.\n",
    "\n",
    "An automatic handwriting recognition system is used to transcribe the individual information contained in these documents. Each line of the table is transcribed by the system, and the complete table transcription is available for each page."
   ]
  },
  {
   "cell_type": "markdown",
   "metadata": {},
   "source": [
    "## 1.2 Description of the task: Gender prediction based on personal data.\n",
    "\n",
    "In some censuses, gender is not recorded. However, this data is necessary for household analysis and for tracking individuals between censuses.\n",
    "\n",
    "**Task:**\n",
    "- develop a system for predicting an individual's sex on the basis of personal data\n",
    "- evaluate the system\n",
    "- analyze the conditions for its application to the entire corpus.\n",
    "\n",
    "**Data available:**\n",
    "- a file of first names with gender frequency: firstname_with_sex.csv\n",
    "- a file containing manual transcriptions (groundtruth), automatic transcriptions (prediction) and associated gender: transcriptions_with_sex.csv\n",
    "\n",
    "<span style=\"color:red\">IMPORTANT:</span> This notebook simply containes the code and some explainations about it. However, there is a report which fully discusses the problem and the suggested solutions."
   ]
  },
  {
   "cell_type": "markdown",
   "metadata": {},
   "source": [
    "## 1.3 Loading the datasets\n",
    "\n",
    "In the following, both files are imported as a pandas dataframe. Basic information as well as the first rows of the datasets are displayed."
   ]
  },
  {
   "cell_type": "code",
   "execution_count": 2,
   "metadata": {},
   "outputs": [
    {
     "name": "stdout",
     "output_type": "stream",
     "text": [
      "<class 'pandas.core.frame.DataFrame'>\n",
      "RangeIndex: 6946 entries, 0 to 6945\n",
      "Data columns (total 3 columns):\n",
      " #   Column     Non-Null Count  Dtype \n",
      "---  ------     --------------  ----- \n",
      " 0   firstname  6946 non-null   object\n",
      " 1   male       6946 non-null   int64 \n",
      " 2   female     6946 non-null   int64 \n",
      "dtypes: int64(2), object(1)\n",
      "memory usage: 162.9+ KB\n"
     ]
    },
    {
     "data": {
      "text/html": [
       "<div>\n",
       "<style scoped>\n",
       "    .dataframe tbody tr th:only-of-type {\n",
       "        vertical-align: middle;\n",
       "    }\n",
       "\n",
       "    .dataframe tbody tr th {\n",
       "        vertical-align: top;\n",
       "    }\n",
       "\n",
       "    .dataframe thead th {\n",
       "        text-align: right;\n",
       "    }\n",
       "</style>\n",
       "<table border=\"1\" class=\"dataframe\">\n",
       "  <thead>\n",
       "    <tr style=\"text-align: right;\">\n",
       "      <th></th>\n",
       "      <th>firstname</th>\n",
       "      <th>male</th>\n",
       "      <th>female</th>\n",
       "    </tr>\n",
       "  </thead>\n",
       "  <tbody>\n",
       "    <tr>\n",
       "      <th>0</th>\n",
       "      <td>marie</td>\n",
       "      <td>10145</td>\n",
       "      <td>2390322</td>\n",
       "    </tr>\n",
       "    <tr>\n",
       "      <th>1</th>\n",
       "      <td>jean</td>\n",
       "      <td>1869615</td>\n",
       "      <td>6476</td>\n",
       "    </tr>\n",
       "    <tr>\n",
       "      <th>2</th>\n",
       "      <td>pierre</td>\n",
       "      <td>1475841</td>\n",
       "      <td>5047</td>\n",
       "    </tr>\n",
       "    <tr>\n",
       "      <th>3</th>\n",
       "      <td>jeanne</td>\n",
       "      <td>1765</td>\n",
       "      <td>1097397</td>\n",
       "    </tr>\n",
       "    <tr>\n",
       "      <th>4</th>\n",
       "      <td>françois</td>\n",
       "      <td>1089009</td>\n",
       "      <td>5951</td>\n",
       "    </tr>\n",
       "  </tbody>\n",
       "</table>\n",
       "</div>"
      ],
      "text/plain": [
       "  firstname     male   female\n",
       "0     marie    10145  2390322\n",
       "1      jean  1869615     6476\n",
       "2    pierre  1475841     5047\n",
       "3    jeanne     1765  1097397\n",
       "4  françois  1089009     5951"
      ]
     },
     "execution_count": 2,
     "metadata": {},
     "output_type": "execute_result"
    }
   ],
   "source": [
    "# loading the dataset showing which name is given how often to men and women\n",
    "firstname = pd.read_csv('data/Task 1/firstname_with_sex.csv', sep=';')\n",
    "firstname.info()\n",
    "firstname.head()"
   ]
  },
  {
   "cell_type": "code",
   "execution_count": 3,
   "metadata": {},
   "outputs": [
    {
     "name": "stdout",
     "output_type": "stream",
     "text": [
      "<class 'pandas.core.frame.DataFrame'>\n",
      "RangeIndex: 241 entries, 0 to 240\n",
      "Data columns (total 4 columns):\n",
      " #   Column        Non-Null Count  Dtype \n",
      "---  ------        --------------  ----- \n",
      " 0   subject_line  241 non-null    object\n",
      " 1   groundtruth   241 non-null    object\n",
      " 2   prediction    241 non-null    object\n",
      " 3   sex           241 non-null    object\n",
      "dtypes: object(4)\n",
      "memory usage: 7.7+ KB\n"
     ]
    },
    {
     "data": {
      "text/html": [
       "<div>\n",
       "<style scoped>\n",
       "    .dataframe tbody tr th:only-of-type {\n",
       "        vertical-align: middle;\n",
       "    }\n",
       "\n",
       "    .dataframe tbody tr th {\n",
       "        vertical-align: top;\n",
       "    }\n",
       "\n",
       "    .dataframe thead th {\n",
       "        text-align: right;\n",
       "    }\n",
       "</style>\n",
       "<table border=\"1\" class=\"dataframe\">\n",
       "  <thead>\n",
       "    <tr style=\"text-align: right;\">\n",
       "      <th></th>\n",
       "      <th>subject_line</th>\n",
       "      <th>groundtruth</th>\n",
       "      <th>prediction</th>\n",
       "      <th>sex</th>\n",
       "    </tr>\n",
       "  </thead>\n",
       "  <tbody>\n",
       "    <tr>\n",
       "      <th>0</th>\n",
       "      <td>ebb26ada-044c-4c62-9dbc-a9c8d505d31c</td>\n",
       "      <td>surname: Chardon firstname: Marie occupation: idem link: fille age: 30</td>\n",
       "      <td>nom: Chardon prénom: Marie date_naissance: 30 lieux_naissance: \"</td>\n",
       "      <td>femme</td>\n",
       "    </tr>\n",
       "    <tr>\n",
       "      <th>1</th>\n",
       "      <td>338496f5-e4ca-43ac-aa5c-429cb3f6ac00</td>\n",
       "      <td>surname: Lhopital firstname: Louis-Jean occupation: sp link: chef age: 67</td>\n",
       "      <td>nom: Lhopital prénom: Louis Jean date_naissance: 67 lieux_naissance: Sn employeur: ahef</td>\n",
       "      <td>homme</td>\n",
       "    </tr>\n",
       "    <tr>\n",
       "      <th>2</th>\n",
       "      <td>e6a279da-9b6f-4f49-b498-64857bc50d1e</td>\n",
       "      <td>surname: Papin firstname: Marie occupation: idem link: idem employer: idem age: 15</td>\n",
       "      <td>nom: Pyrin prénom: Marie date_naissance: 55 relation: d</td>\n",
       "      <td>femme</td>\n",
       "    </tr>\n",
       "    <tr>\n",
       "      <th>3</th>\n",
       "      <td>7534deca-39e8-4f00-be17-c12460015de1</td>\n",
       "      <td>surname: Lavocat firstname: Marie link: femme birth_date: 1875 lob: Rigny</td>\n",
       "      <td>nom: Lavocat prénom: Marie date_naissance: 1875 lieux_naissance: Rigny profession: ''</td>\n",
       "      <td>femme</td>\n",
       "    </tr>\n",
       "    <tr>\n",
       "      <th>4</th>\n",
       "      <td>ef334a66-a504-418a-9872-e7c9db923488</td>\n",
       "      <td>surname: Benne firstname: Marguerite age: 78</td>\n",
       "      <td>nom: Benne prénom: Marguerite date_naissance: 78 lieux_naissance: id relation: ''</td>\n",
       "      <td>femme</td>\n",
       "    </tr>\n",
       "  </tbody>\n",
       "</table>\n",
       "</div>"
      ],
      "text/plain": [
       "                           subject_line  \\\n",
       "0  ebb26ada-044c-4c62-9dbc-a9c8d505d31c   \n",
       "1  338496f5-e4ca-43ac-aa5c-429cb3f6ac00   \n",
       "2  e6a279da-9b6f-4f49-b498-64857bc50d1e   \n",
       "3  7534deca-39e8-4f00-be17-c12460015de1   \n",
       "4  ef334a66-a504-418a-9872-e7c9db923488   \n",
       "\n",
       "                                                                           groundtruth  \\\n",
       "0              surname: Chardon firstname: Marie occupation: idem link: fille age: 30    \n",
       "1           surname: Lhopital firstname: Louis-Jean occupation: sp link: chef age: 67    \n",
       "2  surname: Papin firstname: Marie occupation: idem link: idem employer: idem age: 15    \n",
       "3           surname: Lavocat firstname: Marie link: femme birth_date: 1875 lob: Rigny    \n",
       "4                                        surname: Benne firstname: Marguerite age: 78    \n",
       "\n",
       "                                                                                 prediction  \\\n",
       "0                         nom: Chardon prénom: Marie date_naissance: 30 lieux_naissance: \"    \n",
       "1  nom: Lhopital prénom: Louis Jean date_naissance: 67 lieux_naissance: Sn employeur: ahef    \n",
       "2                                  nom: Pyrin prénom: Marie date_naissance: 55 relation: d    \n",
       "3    nom: Lavocat prénom: Marie date_naissance: 1875 lieux_naissance: Rigny profession: ''    \n",
       "4        nom: Benne prénom: Marguerite date_naissance: 78 lieux_naissance: id relation: ''    \n",
       "\n",
       "     sex  \n",
       "0  femme  \n",
       "1  homme  \n",
       "2  femme  \n",
       "3  femme  \n",
       "4  femme  "
      ]
     },
     "execution_count": 3,
     "metadata": {},
     "output_type": "execute_result"
    }
   ],
   "source": [
    "# Loading the dataset with the groundtruth and the predictions\n",
    "transcriptions = pd.read_csv('data/Task 1/transcriptions_with_sex.csv')\n",
    "transcriptions.info()\n",
    "\n",
    "# Set pandas display options to show the full content of each field\n",
    "pd.set_option('display.max_colwidth', None)\n",
    "\n",
    "transcriptions.head()"
   ]
  },
  {
   "cell_type": "markdown",
   "metadata": {},
   "source": [
    "## 1.4 Changing the types of the columns\n",
    "\n",
    "As most datatypes are objects, the data types are adjusted to more appropriate types right away."
   ]
  },
  {
   "cell_type": "code",
   "execution_count": 4,
   "metadata": {},
   "outputs": [
    {
     "name": "stdout",
     "output_type": "stream",
     "text": [
      "<class 'pandas.core.frame.DataFrame'>\n",
      "RangeIndex: 241 entries, 0 to 240\n",
      "Data columns (total 4 columns):\n",
      " #   Column        Non-Null Count  Dtype \n",
      "---  ------        --------------  ----- \n",
      " 0   subject_line  241 non-null    string\n",
      " 1   groundtruth   241 non-null    string\n",
      " 2   prediction    241 non-null    string\n",
      " 3   sex           241 non-null    string\n",
      "dtypes: string(4)\n",
      "memory usage: 7.7 KB\n"
     ]
    }
   ],
   "source": [
    "# change type of subject_line, groundtruth and prediction from object to string\n",
    "transcriptions['subject_line'] = transcriptions['subject_line'].astype(\"string\")\n",
    "transcriptions['groundtruth'] = transcriptions['groundtruth'].astype(\"string\")\n",
    "transcriptions['prediction'] = transcriptions['prediction'].astype(\"string\")\n",
    "transcriptions['sex'] = transcriptions['sex'].astype(\"string\")\n",
    "transcriptions.info()"
   ]
  },
  {
   "cell_type": "code",
   "execution_count": 5,
   "metadata": {},
   "outputs": [
    {
     "name": "stdout",
     "output_type": "stream",
     "text": [
      "<class 'pandas.core.frame.DataFrame'>\n",
      "RangeIndex: 6946 entries, 0 to 6945\n",
      "Data columns (total 3 columns):\n",
      " #   Column     Non-Null Count  Dtype \n",
      "---  ------     --------------  ----- \n",
      " 0   firstname  6946 non-null   string\n",
      " 1   male       6946 non-null   int64 \n",
      " 2   female     6946 non-null   int64 \n",
      "dtypes: int64(2), string(1)\n",
      "memory usage: 162.9 KB\n"
     ]
    }
   ],
   "source": [
    "# change the types of the firstname dataset\n",
    "firstname['firstname'] = firstname['firstname'].astype(\"string\")\n",
    "firstname.info()"
   ]
  },
  {
   "cell_type": "markdown",
   "metadata": {},
   "source": [
    "# 2. Data Exploration"
   ]
  },
  {
   "cell_type": "markdown",
   "metadata": {},
   "source": [
    "## 2.1 Exploration of the firstname dataset"
   ]
  },
  {
   "cell_type": "markdown",
   "metadata": {},
   "source": [
    "We start very simple and let us output the most common names and the least common names. We can already notice that even the least common names still have 10 occurrences."
   ]
  },
  {
   "cell_type": "code",
   "execution_count": 6,
   "metadata": {},
   "outputs": [
    {
     "name": "stdout",
     "output_type": "stream",
     "text": [
      "Most Common Names:\n",
      "    firstname  total_count\n",
      "0       marie      2400467\n",
      "1        jean      1876091\n",
      "2      pierre      1480888\n",
      "3      jeanne      1099162\n",
      "4    françois      1094960\n",
      "5      joseph       901988\n",
      "6        anne       817720\n",
      "7  marguerite       815300\n",
      "8   catherine       793671\n",
      "9       louis       753218\n",
      "\n",
      "Least Common Names:\n",
      "        firstname  total_count\n",
      "6572     adélaÿde           10\n",
      "6573     adelfine           10\n",
      "6574       adelie           10\n",
      "6575      adérald           10\n",
      "6576     adhémard           10\n",
      "6577  adolescence           10\n",
      "6578       adolie           10\n",
      "6579      adomine           10\n",
      "6580       aglaëe           10\n",
      "6581    aglantine           10\n"
     ]
    }
   ],
   "source": [
    "# Calculate total count\n",
    "firstname['total_count'] = firstname['male'] + firstname['female']\n",
    "\n",
    "# Most common names\n",
    "print(\"Most Common Names:\")\n",
    "print(firstname.nlargest(10, 'total_count')[['firstname', 'total_count']])\n",
    "\n",
    "# Least common names\n",
    "print(\"\\nLeast Common Names:\")\n",
    "print(firstname.nsmallest(10, 'total_count')[['firstname', 'total_count']])\n"
   ]
  },
  {
   "cell_type": "markdown",
   "metadata": {},
   "source": [
    "Next, we look at the distribution of the length of the names."
   ]
  },
  {
   "cell_type": "code",
   "execution_count": 7,
   "metadata": {},
   "outputs": [
    {
     "data": {
      "image/png": "[encoded data removed]",
      "text/plain": [
       "<Figure size 700x400 with 1 Axes>"
      ]
     },
     "metadata": {},
     "output_type": "display_data"
    }
   ],
   "source": [
    "# Calculate name length\n",
    "firstname['name_length'] = firstname['firstname'].apply(len)\n",
    "\n",
    "# Histogram of name lengths\n",
    "plt.figure(figsize=(7, 4))\n",
    "firstname['name_length'].hist(bins=range(1, firstname['name_length'].max()+1))\n",
    "plt.title('Distribution of Name Lengths')\n",
    "plt.xlabel('Length of Name')\n",
    "plt.ylabel('Frequency')\n",
    "plt.grid(False)\n",
    "plt.show()"
   ]
  },
  {
   "cell_type": "code",
   "execution_count": 8,
   "metadata": {},
   "outputs": [
    {
     "data": {
      "text/html": [
       "<div>\n",
       "<style scoped>\n",
       "    .dataframe tbody tr th:only-of-type {\n",
       "        vertical-align: middle;\n",
       "    }\n",
       "\n",
       "    .dataframe tbody tr th {\n",
       "        vertical-align: top;\n",
       "    }\n",
       "\n",
       "    .dataframe thead th {\n",
       "        text-align: right;\n",
       "    }\n",
       "</style>\n",
       "<table border=\"1\" class=\"dataframe\">\n",
       "  <thead>\n",
       "    <tr style=\"text-align: right;\">\n",
       "      <th></th>\n",
       "      <th>firstname</th>\n",
       "      <th>male</th>\n",
       "      <th>female</th>\n",
       "      <th>total_count</th>\n",
       "      <th>name_length</th>\n",
       "    </tr>\n",
       "  </thead>\n",
       "  <tbody>\n",
       "    <tr>\n",
       "      <th>1274</th>\n",
       "      <td>g</td>\n",
       "      <td>282</td>\n",
       "      <td>4</td>\n",
       "      <td>286</td>\n",
       "      <td>1</td>\n",
       "    </tr>\n",
       "    <tr>\n",
       "      <th>1420</th>\n",
       "      <td>f</td>\n",
       "      <td>23</td>\n",
       "      <td>204</td>\n",
       "      <td>227</td>\n",
       "      <td>1</td>\n",
       "    </tr>\n",
       "    <tr>\n",
       "      <th>1680</th>\n",
       "      <td>m</td>\n",
       "      <td>87</td>\n",
       "      <td>69</td>\n",
       "      <td>156</td>\n",
       "      <td>1</td>\n",
       "    </tr>\n",
       "    <tr>\n",
       "      <th>2522</th>\n",
       "      <td>a</td>\n",
       "      <td>42</td>\n",
       "      <td>24</td>\n",
       "      <td>66</td>\n",
       "      <td>1</td>\n",
       "    </tr>\n",
       "    <tr>\n",
       "      <th>2640</th>\n",
       "      <td>x</td>\n",
       "      <td>28</td>\n",
       "      <td>33</td>\n",
       "      <td>61</td>\n",
       "      <td>1</td>\n",
       "    </tr>\n",
       "    <tr>\n",
       "      <th>2758</th>\n",
       "      <td>j</td>\n",
       "      <td>46</td>\n",
       "      <td>9</td>\n",
       "      <td>55</td>\n",
       "      <td>1</td>\n",
       "    </tr>\n",
       "    <tr>\n",
       "      <th>2790</th>\n",
       "      <td>n</td>\n",
       "      <td>40</td>\n",
       "      <td>14</td>\n",
       "      <td>54</td>\n",
       "      <td>1</td>\n",
       "    </tr>\n",
       "    <tr>\n",
       "      <th>3052</th>\n",
       "      <td>s</td>\n",
       "      <td>19</td>\n",
       "      <td>26</td>\n",
       "      <td>45</td>\n",
       "      <td>1</td>\n",
       "    </tr>\n",
       "    <tr>\n",
       "      <th>3090</th>\n",
       "      <td>y</td>\n",
       "      <td>42</td>\n",
       "      <td>2</td>\n",
       "      <td>44</td>\n",
       "      <td>1</td>\n",
       "    </tr>\n",
       "    <tr>\n",
       "      <th>3119</th>\n",
       "      <td>p</td>\n",
       "      <td>33</td>\n",
       "      <td>10</td>\n",
       "      <td>43</td>\n",
       "      <td>1</td>\n",
       "    </tr>\n",
       "    <tr>\n",
       "      <th>3509</th>\n",
       "      <td>c</td>\n",
       "      <td>15</td>\n",
       "      <td>19</td>\n",
       "      <td>34</td>\n",
       "      <td>1</td>\n",
       "    </tr>\n",
       "    <tr>\n",
       "      <th>4045</th>\n",
       "      <td>e</td>\n",
       "      <td>21</td>\n",
       "      <td>5</td>\n",
       "      <td>26</td>\n",
       "      <td>1</td>\n",
       "    </tr>\n",
       "    <tr>\n",
       "      <th>4986</th>\n",
       "      <td>b</td>\n",
       "      <td>13</td>\n",
       "      <td>4</td>\n",
       "      <td>17</td>\n",
       "      <td>1</td>\n",
       "    </tr>\n",
       "    <tr>\n",
       "      <th>5222</th>\n",
       "      <td>l</td>\n",
       "      <td>14</td>\n",
       "      <td>2</td>\n",
       "      <td>16</td>\n",
       "      <td>1</td>\n",
       "    </tr>\n",
       "    <tr>\n",
       "      <th>5781</th>\n",
       "      <td>d</td>\n",
       "      <td>10</td>\n",
       "      <td>3</td>\n",
       "      <td>13</td>\n",
       "      <td>1</td>\n",
       "    </tr>\n",
       "  </tbody>\n",
       "</table>\n",
       "</div>"
      ],
      "text/plain": [
       "     firstname  male  female  total_count  name_length\n",
       "1274         g   282       4          286            1\n",
       "1420         f    23     204          227            1\n",
       "1680         m    87      69          156            1\n",
       "2522         a    42      24           66            1\n",
       "2640         x    28      33           61            1\n",
       "2758         j    46       9           55            1\n",
       "2790         n    40      14           54            1\n",
       "3052         s    19      26           45            1\n",
       "3090         y    42       2           44            1\n",
       "3119         p    33      10           43            1\n",
       "3509         c    15      19           34            1\n",
       "4045         e    21       5           26            1\n",
       "4986         b    13       4           17            1\n",
       "5222         l    14       2           16            1\n",
       "5781         d    10       3           13            1"
      ]
     },
     "execution_count": 8,
     "metadata": {},
     "output_type": "execute_result"
    }
   ],
   "source": [
    "firstname[firstname['name_length'] == 1]"
   ]
  },
  {
   "cell_type": "markdown",
   "metadata": {},
   "source": [
    "Apparently, there are 14 different names consisting of only one letter. This seems to be a bit strange.\n",
    "\n",
    "I'm adding a gender ratio based on the male and female occurrences of each name. This can be seen like a probability that a person with a certain name is male. The ratio is between 0 and 1. Names with a ratio close to zero are predominantly female and name with a ratio close to one are predominantly male. There is no reasoning behind that and male and female could of course have been switched as well."
   ]
  },
  {
   "cell_type": "code",
   "execution_count": 9,
   "metadata": {},
   "outputs": [
    {
     "data": {
      "image/png": "[encoded data removed]",
      "text/plain": [
       "<Figure size 600x300 with 1 Axes>"
      ]
     },
     "metadata": {},
     "output_type": "display_data"
    },
    {
     "name": "stdout",
     "output_type": "stream",
     "text": [
      "gender_category\n",
      "Predominantly Female    3424\n",
      "Predominantly Male      1481\n",
      "Gender-Neutral           232\n",
      "Name: count, dtype: int64\n"
     ]
    },
    {
     "data": {
      "image/png": "[encoded data removed]",
      "text/plain": [
       "<Figure size 700x400 with 1 Axes>"
      ]
     },
     "metadata": {},
     "output_type": "display_data"
    }
   ],
   "source": [
    "# Calculate the gender ratio\n",
    "firstname['gender_ratio'] = firstname['male'] / (firstname['male'] + firstname['female'])\n",
    "\n",
    "# Define categories based on gender_ratio\n",
    "firstname['gender_category'] = pd.cut(firstname['gender_ratio'], bins=[0, 0.25, 0.75, 1], labels=['Predominantly Female', 'Gender-Neutral', 'Predominantly Male'], right=False)\n",
    "\n",
    "# Visualization: Histogram of gender ratios\n",
    "plt.figure(figsize=(6, 3))\n",
    "firstname['gender_ratio'].hist(bins=20, alpha=0.7)\n",
    "plt.title('Distribution of Gender Ratios')\n",
    "plt.xlabel('Gender Ratio (Male Proportion)')\n",
    "plt.ylabel('Count of Names')\n",
    "plt.grid(False)\n",
    "plt.show()\n",
    "\n",
    "# Count of each category\n",
    "category_counts = firstname['gender_category'].value_counts()\n",
    "print(category_counts)\n",
    "\n",
    "# Visualization: Bar chart of categories\n",
    "plt.figure(figsize=(7, 4))\n",
    "category_counts.plot(kind='bar')\n",
    "plt.title('Counts of Gender Categories')\n",
    "plt.xlabel('Gender Category')\n",
    "plt.ylabel('Number of Names')\n",
    "plt.xticks(rotation=0)\n",
    "plt.show()"
   ]
  },
  {
   "cell_type": "markdown",
   "metadata": {},
   "source": [
    "Based on these diagrams, we can see that most names are clearly predominantly female or male and that just a few are gender-neutral. Besides that, we can see how many names of which category are in the dataset.\n",
    "\n",
    "Next, we are looking at the most common male, the most common female and the most common gender-neutral names."
   ]
  },
  {
   "cell_type": "code",
   "execution_count": 10,
   "metadata": {},
   "outputs": [
    {
     "name": "stdout",
     "output_type": "stream",
     "text": [
      "Top 10 Male Names:\n",
      "   firstname  gender_ratio  total_count\n",
      "1       jean      0.996548      1876091\n",
      "2     pierre      0.996592      1480888\n",
      "4   françois      0.994565      1094960\n",
      "5     joseph      0.995293       901988\n",
      "9      louis      0.996389       753218\n",
      "11   jacques      0.996579       587577\n",
      "12   antoine      0.996159       538156\n",
      "13   nicolas      0.996427       409470\n",
      "15    claude      0.985318       328964\n",
      "16   charles      0.996492       277105\n",
      "\n",
      "Top 10 Female Names:\n",
      "     firstname  gender_ratio  total_count\n",
      "0        marie      0.004226      2400467\n",
      "3       jeanne      0.001606      1099162\n",
      "6         anne      0.001809       817720\n",
      "7   marguerite      0.001767       815300\n",
      "8    catherine      0.001541       793671\n",
      "10   françoise      0.001917       601320\n",
      "14      louise      0.001883       361595\n",
      "17   elisabeth      0.001567       225322\n",
      "18   madeleine      0.001942       218363\n",
      "22    claudine      0.001707       163991\n",
      "\n",
      "Gender-Neutral Names with a Ratio of 0.5:\n",
      "      firstname  gender_ratio  total_count\n",
      "3527     henrie           0.5           34\n",
      "4215    féréole           0.5           24\n",
      "4650    gaspare           0.5           20\n",
      "4883    egalité           0.5           18\n",
      "4898  godefride           0.5           18\n",
      "4935   myrtille           0.5           18\n",
      "5535   anthonie           0.5           14\n",
      "6005   castille           0.5           12\n",
      "6681     elissa           0.5           10\n",
      "6837   mirtille           0.5           10\n"
     ]
    }
   ],
   "source": [
    "# Top 10 male likely names, sorted by occurrence\n",
    "top_male_names = firstname[firstname['gender_ratio'] > 0.75].sort_values(by='total_count', ascending=False).head(10)\n",
    "print(\"Top 10 Male Names:\")\n",
    "print(top_male_names[['firstname', 'gender_ratio', 'total_count']])\n",
    "\n",
    "# Top 10 female likely names, sorted by occurrence\n",
    "top_female_names = firstname[firstname['gender_ratio'] < 0.25].sort_values(by='total_count', ascending=False).head(10)\n",
    "print(\"\\nTop 10 Female Names:\")\n",
    "print(top_female_names[['firstname', 'gender_ratio', 'total_count']])\n",
    "\n",
    "# Gender-neutral names (ratio of 0.5), sorted by occurrence\n",
    "gender_neutral_names = firstname[firstname['gender_ratio'] == 0.5].sort_values(by='total_count', ascending=False)\n",
    "print(\"\\nGender-Neutral Names with a Ratio of 0.5:\")\n",
    "print(gender_neutral_names[['firstname', 'gender_ratio', 'total_count']])"
   ]
  },
  {
   "cell_type": "markdown",
   "metadata": {},
   "source": [
    "After that, I was asking myself the following question: If I would classify everybody according to the gender which is more common for the name, how many people would I classify correctly? The result of 99.41% shows that the name is by far a very good and strong indicator for the gender. That also implies that other factor are not absolutely necessary to predict the gender with a very high certainty."
   ]
  },
  {
   "cell_type": "code",
   "execution_count": 11,
   "metadata": {},
   "outputs": [
    {
     "name": "stdout",
     "output_type": "stream",
     "text": [
      "Total Correctly Classified: 26791855\n",
      "Total People: 26950942\n",
      "Percentage Correctly Classified: 99.41%\n"
     ]
    }
   ],
   "source": [
    "# Add a column to determine which gender is dominant for each name\n",
    "firstname['dominant_gender'] = firstname.apply(lambda x: 'male' if x['male'] > x['female'] else 'female', axis=1)\n",
    "\n",
    "# Calculate the correct classification count based on the dominant gender\n",
    "firstname['correct_classifications'] = firstname.apply(lambda x: x['male'] if x['dominant_gender'] == 'male' else x['female'], axis=1)\n",
    "\n",
    "# Calculate the total number of correct classifications\n",
    "total_correct = firstname['correct_classifications'].sum()\n",
    "\n",
    "# Total number of people\n",
    "total_people = firstname['total_count'].sum()\n",
    "\n",
    "# Calculate the percentage of correctly classified individuals\n",
    "percentage_correct = (total_correct / total_people) * 100\n",
    "\n",
    "print(f\"Total Correctly Classified: {total_correct}\")\n",
    "print(f\"Total People: {total_people}\")\n",
    "print(f\"Percentage Correctly Classified: {percentage_correct:.2f}%\")"
   ]
  },
  {
   "cell_type": "code",
   "execution_count": 12,
   "metadata": {},
   "outputs": [],
   "source": [
    "# delete the two columns from the last cell again as they are no longer required (they were just added to enable further exploration)\n",
    "firstname = firstname.drop('dominant_gender', axis = 1)\n",
    "firstname = firstname.drop('correct_classifications', axis = 1)"
   ]
  },
  {
   "cell_type": "markdown",
   "metadata": {},
   "source": [
    "Finally, I asked myself the question how many people can be classified to one or the other gender with a probability of more than 99%."
   ]
  },
  {
   "cell_type": "code",
   "execution_count": 13,
   "metadata": {},
   "outputs": [
    {
     "name": "stdout",
     "output_type": "stream",
     "text": [
      "Percentage of people with a gender likelihood of 99% or more: 95.35%\n"
     ]
    }
   ],
   "source": [
    "# Filter the DataFrame for names where the gender ratio is >= 0.99 or <= 0.01\n",
    "high_certainty_filter = (firstname['gender_ratio'] >= 0.99) | (firstname['gender_ratio'] <= 0.01)\n",
    "high_certainty_df = firstname[high_certainty_filter]\n",
    "\n",
    "# Sum the total_count of these filtered rows\n",
    "high_certainty_count = high_certainty_df['total_count'].sum()\n",
    "\n",
    "# Calculate the total count of all names\n",
    "total_people = firstname['total_count'].sum()\n",
    "\n",
    "# Calculate the percentage of people with >= 99% gender certainty\n",
    "percentage_high_certainty = (high_certainty_count / total_people) * 100\n",
    "\n",
    "# Print the result\n",
    "print(f\"Percentage of people with a gender likelihood of 99% or more: {percentage_high_certainty:.2f}%\")"
   ]
  },
  {
   "cell_type": "markdown",
   "metadata": {},
   "source": [
    "As we can see, more than 95% of people can be classified to one gender with a very high certainty (probability of 99% or more). That gives us more reason to believe that we have to look only at the first name an not really something else. If the first name indicated that you belong to a certain gender with a probability of more than 99%, what else from the automatically transcribed text should then change your mind so that you would predict the other gender?"
   ]
  },
  {
   "cell_type": "markdown",
   "metadata": {},
   "source": [
    "## 2.2 Exploration of the transcriptions dataset"
   ]
  },
  {
   "cell_type": "markdown",
   "metadata": {},
   "source": [
    "Let's first have a look at the 'sex' column to find out whether there is only 'homme' and 'femme' in this column."
   ]
  },
  {
   "cell_type": "code",
   "execution_count": 14,
   "metadata": {},
   "outputs": [
    {
     "name": "stdout",
     "output_type": "stream",
     "text": [
      "sex\n",
      "homme     125\n",
      "femme     107\n",
      "ambigu      9\n",
      "Name: count, dtype: Int64\n"
     ]
    }
   ],
   "source": [
    "# Frequency distribution of the 'sex' column\n",
    "print(transcriptions['sex'].value_counts())"
   ]
  },
  {
   "cell_type": "markdown",
   "metadata": {},
   "source": [
    "We can see that there are 9 rows where the sex is \"ambigu\". This is French and means as much as unclear or unknown. I should look at these rows in more detail. I will do that a bit below.\n",
    "\n",
    "Before that, we explore the length of the groundtruth and the prediction. We see that the prediction (the automatically detected text) is usually longer than the true labeled text."
   ]
  },
  {
   "cell_type": "code",
   "execution_count": 15,
   "metadata": {},
   "outputs": [
    {
     "name": "stdout",
     "output_type": "stream",
     "text": [
      "       groundtruth_length  prediction_length\n",
      "count          241.000000         241.000000\n",
      "mean            80.435685          88.099585\n",
      "std             17.058142          20.820424\n",
      "min             43.000000          43.000000\n",
      "25%             71.000000          73.000000\n",
      "50%             76.000000          85.000000\n",
      "75%             86.000000          97.000000\n",
      "max            144.000000         168.000000\n"
     ]
    },
    {
     "data": {
      "image/png": "[encoded data removed]",
      "text/plain": [
       "<Figure size 1000x500 with 1 Axes>"
      ]
     },
     "metadata": {},
     "output_type": "display_data"
    }
   ],
   "source": [
    "# Calculate the length of text in 'groundtruth' and 'prediction'\n",
    "transcriptions['groundtruth_length'] = transcriptions['groundtruth'].apply(len)\n",
    "transcriptions['prediction_length'] = transcriptions['prediction'].apply(len)\n",
    "\n",
    "# Descriptive statistics for text lengths\n",
    "print(transcriptions[['groundtruth_length', 'prediction_length']].describe())\n",
    "\n",
    "# Visualize the distribution of text lengths\n",
    "plt.figure(figsize=(10, 5))\n",
    "plt.hist(transcriptions['groundtruth_length'], bins=20, alpha=0.5, label='Groundtruth Length')\n",
    "plt.hist(transcriptions['prediction_length'], bins=20, alpha=0.5, label='Prediction Length')\n",
    "plt.title('Distribution of Text Lengths in Groundtruth and Prediction')\n",
    "plt.xlabel('Length of Text')\n",
    "plt.ylabel('Frequency')\n",
    "plt.legend()\n",
    "plt.show()"
   ]
  },
  {
   "cell_type": "markdown",
   "metadata": {},
   "source": [
    "When reading some entries of the groundtruth and comparing it to the prediction column, I thought that the two versions often differ significantly and that often, they don't have that much in common. To quantify the difference, let's have a look at the Jaccard similarity between the two."
   ]
  },
  {
   "cell_type": "code",
   "execution_count": 16,
   "metadata": {},
   "outputs": [
    {
     "name": "stdout",
     "output_type": "stream",
     "text": [
      "Average Jaccard similarity: 0.14003114683563508\n"
     ]
    }
   ],
   "source": [
    "from sklearn.metrics import jaccard_score\n",
    "\n",
    "# Function to calculate Jaccard similarity between two strings (set of words)\n",
    "def jaccard_similarity(str1, str2):\n",
    "    a = set(str1.split()) \n",
    "    b = set(str2.split())\n",
    "    c = a.intersection(b)\n",
    "    return float(len(c)) / (len(a) + len(b) - len(c))\n",
    "\n",
    "# Apply function to each row\n",
    "transcriptions['jaccard_similarity'] = transcriptions.apply(lambda x: jaccard_similarity(x['groundtruth'], x['prediction']), axis=1)\n",
    "\n",
    "# Average Jaccard similarity\n",
    "print(f\"Average Jaccard similarity: {transcriptions['jaccard_similarity'].mean()}\")"
   ]
  },
  {
   "cell_type": "markdown",
   "metadata": {},
   "source": [
    "We can see that often there are signficant differences between the groundtruth and the predictions (the automatic transcriptions). However, we do only have the automatically detected text for predicting the gender. One might think that this difference between the two shows us that it is better to use rather little information from the automatically detected text.\n",
    "\n",
    "There are some rows having written \"ambigu\" in the \"sex\" column. I would like to know more about these entries."
   ]
  },
  {
   "cell_type": "code",
   "execution_count": 17,
   "metadata": {},
   "outputs": [
    {
     "data": {
      "text/html": [
       "<div>\n",
       "<style scoped>\n",
       "    .dataframe tbody tr th:only-of-type {\n",
       "        vertical-align: middle;\n",
       "    }\n",
       "\n",
       "    .dataframe tbody tr th {\n",
       "        vertical-align: top;\n",
       "    }\n",
       "\n",
       "    .dataframe thead th {\n",
       "        text-align: right;\n",
       "    }\n",
       "</style>\n",
       "<table border=\"1\" class=\"dataframe\">\n",
       "  <thead>\n",
       "    <tr style=\"text-align: right;\">\n",
       "      <th></th>\n",
       "      <th>subject_line</th>\n",
       "      <th>groundtruth</th>\n",
       "      <th>prediction</th>\n",
       "      <th>sex</th>\n",
       "    </tr>\n",
       "  </thead>\n",
       "  <tbody>\n",
       "    <tr>\n",
       "      <th>17</th>\n",
       "      <td>421b3e1f-ff91-4871-a8de-3af62c58e3bc</td>\n",
       "      <td>surname: Daniel firstname: Claude occupation: journalier link: chef age: 33</td>\n",
       "      <td>nom: Demil prénom: Claude date_naissance: 33 lieux_naissance: Yonne relation: chef</td>\n",
       "      <td>ambigu</td>\n",
       "    </tr>\n",
       "    <tr>\n",
       "      <th>59</th>\n",
       "      <td>8339da37-3493-4684-a9fd-090411f33d01</td>\n",
       "      <td>surname: Gorbinet firstname: Jeanne occupation: idem link: chef age: 66</td>\n",
       "      <td>nom: Gorbinet prénom: Jeanne date_naissance: 66 lieux_naissance: id relation: id</td>\n",
       "      <td>ambigu</td>\n",
       "    </tr>\n",
       "    <tr>\n",
       "      <th>94</th>\n",
       "      <td>e1e6fb82-6417-4dcf-8eaa-7d5a5e9f6551</td>\n",
       "      <td>surname: Roumeau firstname: Claude occupation: cultivateur link: chef age: 30 ans</td>\n",
       "      <td>nom: Roumeau prénom: Vaude date_naissance: 1804 lieux_naissance: Aulpares relation: Chef</td>\n",
       "      <td>ambigu</td>\n",
       "    </tr>\n",
       "    <tr>\n",
       "      <th>123</th>\n",
       "      <td>e6927138-689e-4d70-89c2-cf86f7171fd1</td>\n",
       "      <td>surname: Chardon firstname: Marie occupation: idem link: chef age: 84 ans</td>\n",
       "      <td>nom: Chardon prénom: Marie date_naissance: 84 lieux_naissance: \" relation: D</td>\n",
       "      <td>ambigu</td>\n",
       "    </tr>\n",
       "    <tr>\n",
       "      <th>124</th>\n",
       "      <td>5b244d56-e1da-4b57-934a-0a1234f34709</td>\n",
       "      <td>surname: Grillé firstname: Emile occupation: idem link: idem employer: idem age: 2</td>\n",
       "      <td>nom: d prénom: Emile date_naissance: 2 lieux_naissance: d relation: \" profession: \"</td>\n",
       "      <td>ambigu</td>\n",
       "    </tr>\n",
       "    <tr>\n",
       "      <th>130</th>\n",
       "      <td>623f7836-8a46-4078-914e-f3cb9bb51c6e</td>\n",
       "      <td>surname: Martin firstname: Marie occupation: idem link: idem age: 45</td>\n",
       "      <td>nom: Martin prénom: Marie date_naissance: 47 lieux_naissance: P id état_civil: id profession: id</td>\n",
       "      <td>ambigu</td>\n",
       "    </tr>\n",
       "    <tr>\n",
       "      <th>196</th>\n",
       "      <td>91b1d765-2195-462d-a85b-72233327ff4d</td>\n",
       "      <td>surname: Pénot firstname: Claude occupation: s.p link: enfant age: 13</td>\n",
       "      <td>nom: Pirot prénom: Claude date_naissance: 1303 lieux_naissance: id relation: enfant</td>\n",
       "      <td>ambigu</td>\n",
       "    </tr>\n",
       "    <tr>\n",
       "      <th>204</th>\n",
       "      <td>a17f5fb3-c879-4a9a-a063-e3a43f4f4a3c</td>\n",
       "      <td>surname: Coq firstname: Antonie occupation: idem link: idem employer: idem age: 16</td>\n",
       "      <td>nom: d prénom: Entonie date_naissance: 16 lieux_naissance: d relation: f</td>\n",
       "      <td>ambigu</td>\n",
       "    </tr>\n",
       "    <tr>\n",
       "      <th>230</th>\n",
       "      <td>e925d46e-1ea7-4537-986e-0fe062d64fa2</td>\n",
       "      <td>surname: Clayeux firstname: Claude occupation: idem link: idem employer: idem age: 13</td>\n",
       "      <td>nom: Clayeux prénom: Claude date_naissance: 13 lieux_naissance: P relation: a</td>\n",
       "      <td>ambigu</td>\n",
       "    </tr>\n",
       "  </tbody>\n",
       "</table>\n",
       "</div>"
      ],
      "text/plain": [
       "                             subject_line  \\\n",
       "17   421b3e1f-ff91-4871-a8de-3af62c58e3bc   \n",
       "59   8339da37-3493-4684-a9fd-090411f33d01   \n",
       "94   e1e6fb82-6417-4dcf-8eaa-7d5a5e9f6551   \n",
       "123  e6927138-689e-4d70-89c2-cf86f7171fd1   \n",
       "124  5b244d56-e1da-4b57-934a-0a1234f34709   \n",
       "130  623f7836-8a46-4078-914e-f3cb9bb51c6e   \n",
       "196  91b1d765-2195-462d-a85b-72233327ff4d   \n",
       "204  a17f5fb3-c879-4a9a-a063-e3a43f4f4a3c   \n",
       "230  e925d46e-1ea7-4537-986e-0fe062d64fa2   \n",
       "\n",
       "                                                                                groundtruth  \\\n",
       "17             surname: Daniel firstname: Claude occupation: journalier link: chef age: 33    \n",
       "59                 surname: Gorbinet firstname: Jeanne occupation: idem link: chef age: 66    \n",
       "94       surname: Roumeau firstname: Claude occupation: cultivateur link: chef age: 30 ans    \n",
       "123              surname: Chardon firstname: Marie occupation: idem link: chef age: 84 ans    \n",
       "124     surname: Grillé firstname: Emile occupation: idem link: idem employer: idem age: 2    \n",
       "130                   surname: Martin firstname: Marie occupation: idem link: idem age: 45    \n",
       "196                  surname: Pénot firstname: Claude occupation: s.p link: enfant age: 13    \n",
       "204     surname: Coq firstname: Antonie occupation: idem link: idem employer: idem age: 16    \n",
       "230  surname: Clayeux firstname: Claude occupation: idem link: idem employer: idem age: 13    \n",
       "\n",
       "                                                                                            prediction  \\\n",
       "17                 nom: Demil prénom: Claude date_naissance: 33 lieux_naissance: Yonne relation: chef    \n",
       "59                   nom: Gorbinet prénom: Jeanne date_naissance: 66 lieux_naissance: id relation: id    \n",
       "94           nom: Roumeau prénom: Vaude date_naissance: 1804 lieux_naissance: Aulpares relation: Chef    \n",
       "123                      nom: Chardon prénom: Marie date_naissance: 84 lieux_naissance: \" relation: D    \n",
       "124               nom: d prénom: Emile date_naissance: 2 lieux_naissance: d relation: \" profession: \"    \n",
       "130  nom: Martin prénom: Marie date_naissance: 47 lieux_naissance: P id état_civil: id profession: id    \n",
       "196               nom: Pirot prénom: Claude date_naissance: 1303 lieux_naissance: id relation: enfant    \n",
       "204                          nom: d prénom: Entonie date_naissance: 16 lieux_naissance: d relation: f    \n",
       "230                     nom: Clayeux prénom: Claude date_naissance: 13 lieux_naissance: P relation: a    \n",
       "\n",
       "        sex  \n",
       "17   ambigu  \n",
       "59   ambigu  \n",
       "94   ambigu  \n",
       "123  ambigu  \n",
       "124  ambigu  \n",
       "130  ambigu  \n",
       "196  ambigu  \n",
       "204  ambigu  \n",
       "230  ambigu  "
      ]
     },
     "execution_count": 17,
     "metadata": {},
     "output_type": "execute_result"
    }
   ],
   "source": [
    "transcriptions = transcriptions.drop(['groundtruth_length','prediction_length','jaccard_similarity'], axis = 1)\n",
    "\n",
    "# save all the subject lines in a list so that I can verify easily that the adjustment worked later\n",
    "subject_line_list = transcriptions[transcriptions['sex'] == 'ambigu']['subject_line'].tolist()\n",
    "\n",
    "transcriptions[transcriptions['sex'] == 'ambigu']"
   ]
  },
  {
   "cell_type": "markdown",
   "metadata": {},
   "source": [
    "# 3. Data Cleaning and Preprocessing\n",
    "\n",
    "I start with an issue that some entries have \"ambigu\" as sex. The output of the cell above shows us that the gender of these 9 rows can indeed be labeled. According to the groundtruth, these people all have names for which the firstname dataset says that one gender is particularly likely. These genders are added manually with the next steps.\n",
    "\n",
    "In the beginning, I left this step out and just continued with transcriptions['target'] = np.where(transcriptions['sex'] == 'homme', 1, 0) down below. This lead to some mistakes and a lower accuracy. We see once more how helpful exploratory data analysis it."
   ]
  },
  {
   "cell_type": "code",
   "execution_count": 18,
   "metadata": {},
   "outputs": [
    {
     "data": {
      "text/html": [
       "<div>\n",
       "<style scoped>\n",
       "    .dataframe tbody tr th:only-of-type {\n",
       "        vertical-align: middle;\n",
       "    }\n",
       "\n",
       "    .dataframe tbody tr th {\n",
       "        vertical-align: top;\n",
       "    }\n",
       "\n",
       "    .dataframe thead th {\n",
       "        text-align: right;\n",
       "    }\n",
       "</style>\n",
       "<table border=\"1\" class=\"dataframe\">\n",
       "  <thead>\n",
       "    <tr style=\"text-align: right;\">\n",
       "      <th></th>\n",
       "      <th>firstname</th>\n",
       "      <th>male</th>\n",
       "      <th>female</th>\n",
       "      <th>total_count</th>\n",
       "      <th>name_length</th>\n",
       "      <th>gender_ratio</th>\n",
       "      <th>gender_category</th>\n",
       "    </tr>\n",
       "  </thead>\n",
       "  <tbody>\n",
       "    <tr>\n",
       "      <th>0</th>\n",
       "      <td>marie</td>\n",
       "      <td>10145</td>\n",
       "      <td>2390322</td>\n",
       "      <td>2400467</td>\n",
       "      <td>5</td>\n",
       "      <td>0.004226</td>\n",
       "      <td>Predominantly Female</td>\n",
       "    </tr>\n",
       "    <tr>\n",
       "      <th>3</th>\n",
       "      <td>jeanne</td>\n",
       "      <td>1765</td>\n",
       "      <td>1097397</td>\n",
       "      <td>1099162</td>\n",
       "      <td>6</td>\n",
       "      <td>0.001606</td>\n",
       "      <td>Predominantly Female</td>\n",
       "    </tr>\n",
       "    <tr>\n",
       "      <th>15</th>\n",
       "      <td>claude</td>\n",
       "      <td>324134</td>\n",
       "      <td>4830</td>\n",
       "      <td>328964</td>\n",
       "      <td>6</td>\n",
       "      <td>0.985318</td>\n",
       "      <td>Predominantly Male</td>\n",
       "    </tr>\n",
       "    <tr>\n",
       "      <th>59</th>\n",
       "      <td>emile</td>\n",
       "      <td>65749</td>\n",
       "      <td>444</td>\n",
       "      <td>66193</td>\n",
       "      <td>5</td>\n",
       "      <td>0.993292</td>\n",
       "      <td>Predominantly Male</td>\n",
       "    </tr>\n",
       "    <tr>\n",
       "      <th>1086</th>\n",
       "      <td>antonie</td>\n",
       "      <td>23</td>\n",
       "      <td>394</td>\n",
       "      <td>417</td>\n",
       "      <td>7</td>\n",
       "      <td>0.055156</td>\n",
       "      <td>Predominantly Female</td>\n",
       "    </tr>\n",
       "  </tbody>\n",
       "</table>\n",
       "</div>"
      ],
      "text/plain": [
       "     firstname    male   female  total_count  name_length  gender_ratio  \\\n",
       "0        marie   10145  2390322      2400467            5      0.004226   \n",
       "3       jeanne    1765  1097397      1099162            6      0.001606   \n",
       "15      claude  324134     4830       328964            6      0.985318   \n",
       "59       emile   65749      444        66193            5      0.993292   \n",
       "1086   antonie      23      394          417            7      0.055156   \n",
       "\n",
       "           gender_category  \n",
       "0     Predominantly Female  \n",
       "3     Predominantly Female  \n",
       "15      Predominantly Male  \n",
       "59      Predominantly Male  \n",
       "1086  Predominantly Female  "
      ]
     },
     "execution_count": 18,
     "metadata": {},
     "output_type": "execute_result"
    }
   ],
   "source": [
    "# to find out the most likely gender of those people with ambigu in the sex column\n",
    "names_to_check = ['claude', 'jeanne', 'marie','emile','antonie']\n",
    "\n",
    "# Filter the DataFrame to only include rows with these specific names\n",
    "firstname[firstname['firstname'].isin(names_to_check)]"
   ]
  },
  {
   "cell_type": "code",
   "execution_count": 19,
   "metadata": {},
   "outputs": [],
   "source": [
    "# add the code here to assign the right gender to the rows from above\n",
    "transcriptions.loc[transcriptions['subject_line'] == '421b3e1f-ff91-4871-a8de-3af62c58e3bc', 'sex'] = 'homme'\n",
    "transcriptions.loc[transcriptions['subject_line'] == '8339da37-3493-4684-a9fd-090411f33d01', 'sex'] = 'femme'\n",
    "transcriptions.loc[transcriptions['subject_line'] == 'e1e6fb82-6417-4dcf-8eaa-7d5a5e9f6551', 'sex'] = 'homme'\n",
    "transcriptions.loc[transcriptions['subject_line'] == 'e6927138-689e-4d70-89c2-cf86f7171fd1', 'sex'] = 'femme'\n",
    "transcriptions.loc[transcriptions['subject_line'] == '5b244d56-e1da-4b57-934a-0a1234f34709', 'sex'] = 'homme'\n",
    "transcriptions.loc[transcriptions['subject_line'] == '623f7836-8a46-4078-914e-f3cb9bb51c6e', 'sex'] = 'femme'\n",
    "transcriptions.loc[transcriptions['subject_line'] == '91b1d765-2195-462d-a85b-72233327ff4d', 'sex'] = 'homme'\n",
    "transcriptions.loc[transcriptions['subject_line'] == 'a17f5fb3-c879-4a9a-a063-e3a43f4f4a3c', 'sex'] = 'femme'\n",
    "transcriptions.loc[transcriptions['subject_line'] == 'e925d46e-1ea7-4537-986e-0fe062d64fa2', 'sex'] = 'homme'"
   ]
  },
  {
   "cell_type": "code",
   "execution_count": 20,
   "metadata": {},
   "outputs": [
    {
     "data": {
      "text/html": [
       "<div>\n",
       "<style scoped>\n",
       "    .dataframe tbody tr th:only-of-type {\n",
       "        vertical-align: middle;\n",
       "    }\n",
       "\n",
       "    .dataframe tbody tr th {\n",
       "        vertical-align: top;\n",
       "    }\n",
       "\n",
       "    .dataframe thead th {\n",
       "        text-align: right;\n",
       "    }\n",
       "</style>\n",
       "<table border=\"1\" class=\"dataframe\">\n",
       "  <thead>\n",
       "    <tr style=\"text-align: right;\">\n",
       "      <th></th>\n",
       "      <th>subject_line</th>\n",
       "      <th>groundtruth</th>\n",
       "      <th>prediction</th>\n",
       "      <th>sex</th>\n",
       "    </tr>\n",
       "  </thead>\n",
       "  <tbody>\n",
       "    <tr>\n",
       "      <th>17</th>\n",
       "      <td>421b3e1f-ff91-4871-a8de-3af62c58e3bc</td>\n",
       "      <td>surname: Daniel firstname: Claude occupation: journalier link: chef age: 33</td>\n",
       "      <td>nom: Demil prénom: Claude date_naissance: 33 lieux_naissance: Yonne relation: chef</td>\n",
       "      <td>homme</td>\n",
       "    </tr>\n",
       "    <tr>\n",
       "      <th>59</th>\n",
       "      <td>8339da37-3493-4684-a9fd-090411f33d01</td>\n",
       "      <td>surname: Gorbinet firstname: Jeanne occupation: idem link: chef age: 66</td>\n",
       "      <td>nom: Gorbinet prénom: Jeanne date_naissance: 66 lieux_naissance: id relation: id</td>\n",
       "      <td>femme</td>\n",
       "    </tr>\n",
       "    <tr>\n",
       "      <th>94</th>\n",
       "      <td>e1e6fb82-6417-4dcf-8eaa-7d5a5e9f6551</td>\n",
       "      <td>surname: Roumeau firstname: Claude occupation: cultivateur link: chef age: 30 ans</td>\n",
       "      <td>nom: Roumeau prénom: Vaude date_naissance: 1804 lieux_naissance: Aulpares relation: Chef</td>\n",
       "      <td>homme</td>\n",
       "    </tr>\n",
       "    <tr>\n",
       "      <th>123</th>\n",
       "      <td>e6927138-689e-4d70-89c2-cf86f7171fd1</td>\n",
       "      <td>surname: Chardon firstname: Marie occupation: idem link: chef age: 84 ans</td>\n",
       "      <td>nom: Chardon prénom: Marie date_naissance: 84 lieux_naissance: \" relation: D</td>\n",
       "      <td>femme</td>\n",
       "    </tr>\n",
       "    <tr>\n",
       "      <th>124</th>\n",
       "      <td>5b244d56-e1da-4b57-934a-0a1234f34709</td>\n",
       "      <td>surname: Grillé firstname: Emile occupation: idem link: idem employer: idem age: 2</td>\n",
       "      <td>nom: d prénom: Emile date_naissance: 2 lieux_naissance: d relation: \" profession: \"</td>\n",
       "      <td>homme</td>\n",
       "    </tr>\n",
       "    <tr>\n",
       "      <th>130</th>\n",
       "      <td>623f7836-8a46-4078-914e-f3cb9bb51c6e</td>\n",
       "      <td>surname: Martin firstname: Marie occupation: idem link: idem age: 45</td>\n",
       "      <td>nom: Martin prénom: Marie date_naissance: 47 lieux_naissance: P id état_civil: id profession: id</td>\n",
       "      <td>femme</td>\n",
       "    </tr>\n",
       "    <tr>\n",
       "      <th>196</th>\n",
       "      <td>91b1d765-2195-462d-a85b-72233327ff4d</td>\n",
       "      <td>surname: Pénot firstname: Claude occupation: s.p link: enfant age: 13</td>\n",
       "      <td>nom: Pirot prénom: Claude date_naissance: 1303 lieux_naissance: id relation: enfant</td>\n",
       "      <td>homme</td>\n",
       "    </tr>\n",
       "    <tr>\n",
       "      <th>204</th>\n",
       "      <td>a17f5fb3-c879-4a9a-a063-e3a43f4f4a3c</td>\n",
       "      <td>surname: Coq firstname: Antonie occupation: idem link: idem employer: idem age: 16</td>\n",
       "      <td>nom: d prénom: Entonie date_naissance: 16 lieux_naissance: d relation: f</td>\n",
       "      <td>femme</td>\n",
       "    </tr>\n",
       "    <tr>\n",
       "      <th>230</th>\n",
       "      <td>e925d46e-1ea7-4537-986e-0fe062d64fa2</td>\n",
       "      <td>surname: Clayeux firstname: Claude occupation: idem link: idem employer: idem age: 13</td>\n",
       "      <td>nom: Clayeux prénom: Claude date_naissance: 13 lieux_naissance: P relation: a</td>\n",
       "      <td>homme</td>\n",
       "    </tr>\n",
       "  </tbody>\n",
       "</table>\n",
       "</div>"
      ],
      "text/plain": [
       "                             subject_line  \\\n",
       "17   421b3e1f-ff91-4871-a8de-3af62c58e3bc   \n",
       "59   8339da37-3493-4684-a9fd-090411f33d01   \n",
       "94   e1e6fb82-6417-4dcf-8eaa-7d5a5e9f6551   \n",
       "123  e6927138-689e-4d70-89c2-cf86f7171fd1   \n",
       "124  5b244d56-e1da-4b57-934a-0a1234f34709   \n",
       "130  623f7836-8a46-4078-914e-f3cb9bb51c6e   \n",
       "196  91b1d765-2195-462d-a85b-72233327ff4d   \n",
       "204  a17f5fb3-c879-4a9a-a063-e3a43f4f4a3c   \n",
       "230  e925d46e-1ea7-4537-986e-0fe062d64fa2   \n",
       "\n",
       "                                                                                groundtruth  \\\n",
       "17             surname: Daniel firstname: Claude occupation: journalier link: chef age: 33    \n",
       "59                 surname: Gorbinet firstname: Jeanne occupation: idem link: chef age: 66    \n",
       "94       surname: Roumeau firstname: Claude occupation: cultivateur link: chef age: 30 ans    \n",
       "123              surname: Chardon firstname: Marie occupation: idem link: chef age: 84 ans    \n",
       "124     surname: Grillé firstname: Emile occupation: idem link: idem employer: idem age: 2    \n",
       "130                   surname: Martin firstname: Marie occupation: idem link: idem age: 45    \n",
       "196                  surname: Pénot firstname: Claude occupation: s.p link: enfant age: 13    \n",
       "204     surname: Coq firstname: Antonie occupation: idem link: idem employer: idem age: 16    \n",
       "230  surname: Clayeux firstname: Claude occupation: idem link: idem employer: idem age: 13    \n",
       "\n",
       "                                                                                            prediction  \\\n",
       "17                 nom: Demil prénom: Claude date_naissance: 33 lieux_naissance: Yonne relation: chef    \n",
       "59                   nom: Gorbinet prénom: Jeanne date_naissance: 66 lieux_naissance: id relation: id    \n",
       "94           nom: Roumeau prénom: Vaude date_naissance: 1804 lieux_naissance: Aulpares relation: Chef    \n",
       "123                      nom: Chardon prénom: Marie date_naissance: 84 lieux_naissance: \" relation: D    \n",
       "124               nom: d prénom: Emile date_naissance: 2 lieux_naissance: d relation: \" profession: \"    \n",
       "130  nom: Martin prénom: Marie date_naissance: 47 lieux_naissance: P id état_civil: id profession: id    \n",
       "196               nom: Pirot prénom: Claude date_naissance: 1303 lieux_naissance: id relation: enfant    \n",
       "204                          nom: d prénom: Entonie date_naissance: 16 lieux_naissance: d relation: f    \n",
       "230                     nom: Clayeux prénom: Claude date_naissance: 13 lieux_naissance: P relation: a    \n",
       "\n",
       "       sex  \n",
       "17   homme  \n",
       "59   femme  \n",
       "94   homme  \n",
       "123  femme  \n",
       "124  homme  \n",
       "130  femme  \n",
       "196  homme  \n",
       "204  femme  \n",
       "230  homme  "
      ]
     },
     "execution_count": 20,
     "metadata": {},
     "output_type": "execute_result"
    }
   ],
   "source": [
    "# verify that adding the genders manually worked\n",
    "transcriptions[transcriptions['subject_line'].isin(subject_line_list)]"
   ]
  },
  {
   "cell_type": "markdown",
   "metadata": {},
   "source": [
    "After adding the gender manually, I like to change this column. For more clarity, I call it 'target'. 1 means male, 0 means female."
   ]
  },
  {
   "cell_type": "code",
   "execution_count": 21,
   "metadata": {},
   "outputs": [],
   "source": [
    "# create a new boolean column for the sex (0: homme, 1: femme)\n",
    "transcriptions['target'] = np.where(transcriptions['sex'] == 'homme', 1, 0)"
   ]
  },
  {
   "cell_type": "code",
   "execution_count": 22,
   "metadata": {},
   "outputs": [
    {
     "data": {
      "text/html": [
       "<div>\n",
       "<style scoped>\n",
       "    .dataframe tbody tr th:only-of-type {\n",
       "        vertical-align: middle;\n",
       "    }\n",
       "\n",
       "    .dataframe tbody tr th {\n",
       "        vertical-align: top;\n",
       "    }\n",
       "\n",
       "    .dataframe thead th {\n",
       "        text-align: right;\n",
       "    }\n",
       "</style>\n",
       "<table border=\"1\" class=\"dataframe\">\n",
       "  <thead>\n",
       "    <tr style=\"text-align: right;\">\n",
       "      <th></th>\n",
       "      <th>subject_line</th>\n",
       "      <th>groundtruth</th>\n",
       "      <th>prediction</th>\n",
       "      <th>target</th>\n",
       "    </tr>\n",
       "  </thead>\n",
       "  <tbody>\n",
       "    <tr>\n",
       "      <th>0</th>\n",
       "      <td>ebb26ada-044c-4c62-9dbc-a9c8d505d31c</td>\n",
       "      <td>surname: Chardon firstname: Marie occupation: idem link: fille age: 30</td>\n",
       "      <td>nom: Chardon prénom: Marie date_naissance: 30 lieux_naissance: \"</td>\n",
       "      <td>0</td>\n",
       "    </tr>\n",
       "    <tr>\n",
       "      <th>1</th>\n",
       "      <td>338496f5-e4ca-43ac-aa5c-429cb3f6ac00</td>\n",
       "      <td>surname: Lhopital firstname: Louis-Jean occupation: sp link: chef age: 67</td>\n",
       "      <td>nom: Lhopital prénom: Louis Jean date_naissance: 67 lieux_naissance: Sn employeur: ahef</td>\n",
       "      <td>1</td>\n",
       "    </tr>\n",
       "    <tr>\n",
       "      <th>2</th>\n",
       "      <td>e6a279da-9b6f-4f49-b498-64857bc50d1e</td>\n",
       "      <td>surname: Papin firstname: Marie occupation: idem link: idem employer: idem age: 15</td>\n",
       "      <td>nom: Pyrin prénom: Marie date_naissance: 55 relation: d</td>\n",
       "      <td>0</td>\n",
       "    </tr>\n",
       "    <tr>\n",
       "      <th>3</th>\n",
       "      <td>7534deca-39e8-4f00-be17-c12460015de1</td>\n",
       "      <td>surname: Lavocat firstname: Marie link: femme birth_date: 1875 lob: Rigny</td>\n",
       "      <td>nom: Lavocat prénom: Marie date_naissance: 1875 lieux_naissance: Rigny profession: ''</td>\n",
       "      <td>0</td>\n",
       "    </tr>\n",
       "    <tr>\n",
       "      <th>4</th>\n",
       "      <td>ef334a66-a504-418a-9872-e7c9db923488</td>\n",
       "      <td>surname: Benne firstname: Marguerite age: 78</td>\n",
       "      <td>nom: Benne prénom: Marguerite date_naissance: 78 lieux_naissance: id relation: ''</td>\n",
       "      <td>0</td>\n",
       "    </tr>\n",
       "  </tbody>\n",
       "</table>\n",
       "</div>"
      ],
      "text/plain": [
       "                           subject_line  \\\n",
       "0  ebb26ada-044c-4c62-9dbc-a9c8d505d31c   \n",
       "1  338496f5-e4ca-43ac-aa5c-429cb3f6ac00   \n",
       "2  e6a279da-9b6f-4f49-b498-64857bc50d1e   \n",
       "3  7534deca-39e8-4f00-be17-c12460015de1   \n",
       "4  ef334a66-a504-418a-9872-e7c9db923488   \n",
       "\n",
       "                                                                           groundtruth  \\\n",
       "0              surname: Chardon firstname: Marie occupation: idem link: fille age: 30    \n",
       "1           surname: Lhopital firstname: Louis-Jean occupation: sp link: chef age: 67    \n",
       "2  surname: Papin firstname: Marie occupation: idem link: idem employer: idem age: 15    \n",
       "3           surname: Lavocat firstname: Marie link: femme birth_date: 1875 lob: Rigny    \n",
       "4                                        surname: Benne firstname: Marguerite age: 78    \n",
       "\n",
       "                                                                                 prediction  \\\n",
       "0                         nom: Chardon prénom: Marie date_naissance: 30 lieux_naissance: \"    \n",
       "1  nom: Lhopital prénom: Louis Jean date_naissance: 67 lieux_naissance: Sn employeur: ahef    \n",
       "2                                  nom: Pyrin prénom: Marie date_naissance: 55 relation: d    \n",
       "3    nom: Lavocat prénom: Marie date_naissance: 1875 lieux_naissance: Rigny profession: ''    \n",
       "4        nom: Benne prénom: Marguerite date_naissance: 78 lieux_naissance: id relation: ''    \n",
       "\n",
       "   target  \n",
       "0       0  \n",
       "1       1  \n",
       "2       0  \n",
       "3       0  \n",
       "4       0  "
      ]
     },
     "execution_count": 22,
     "metadata": {},
     "output_type": "execute_result"
    }
   ],
   "source": [
    "# drop the 'sex' column to have only a numeric value as target variable\n",
    "transcriptions = transcriptions.drop('sex', axis = 1)\n",
    "transcriptions.head()"
   ]
  },
  {
   "cell_type": "markdown",
   "metadata": {},
   "source": [
    "I feel like the 'subject_line' leads to more disorder and mess when looking at the data frame. As it does not have a specific purpose any more, I drop it. Within the pandas data frame, there is still the index identifying each row."
   ]
  },
  {
   "cell_type": "code",
   "execution_count": 23,
   "metadata": {},
   "outputs": [
    {
     "data": {
      "text/html": [
       "<div>\n",
       "<style scoped>\n",
       "    .dataframe tbody tr th:only-of-type {\n",
       "        vertical-align: middle;\n",
       "    }\n",
       "\n",
       "    .dataframe tbody tr th {\n",
       "        vertical-align: top;\n",
       "    }\n",
       "\n",
       "    .dataframe thead th {\n",
       "        text-align: right;\n",
       "    }\n",
       "</style>\n",
       "<table border=\"1\" class=\"dataframe\">\n",
       "  <thead>\n",
       "    <tr style=\"text-align: right;\">\n",
       "      <th></th>\n",
       "      <th>groundtruth</th>\n",
       "      <th>prediction</th>\n",
       "      <th>target</th>\n",
       "    </tr>\n",
       "  </thead>\n",
       "  <tbody>\n",
       "    <tr>\n",
       "      <th>0</th>\n",
       "      <td>surname: Chardon firstname: Marie occupation: idem link: fille age: 30</td>\n",
       "      <td>nom: Chardon prénom: Marie date_naissance: 30 lieux_naissance: \"</td>\n",
       "      <td>0</td>\n",
       "    </tr>\n",
       "    <tr>\n",
       "      <th>1</th>\n",
       "      <td>surname: Lhopital firstname: Louis-Jean occupation: sp link: chef age: 67</td>\n",
       "      <td>nom: Lhopital prénom: Louis Jean date_naissance: 67 lieux_naissance: Sn employeur: ahef</td>\n",
       "      <td>1</td>\n",
       "    </tr>\n",
       "    <tr>\n",
       "      <th>2</th>\n",
       "      <td>surname: Papin firstname: Marie occupation: idem link: idem employer: idem age: 15</td>\n",
       "      <td>nom: Pyrin prénom: Marie date_naissance: 55 relation: d</td>\n",
       "      <td>0</td>\n",
       "    </tr>\n",
       "    <tr>\n",
       "      <th>3</th>\n",
       "      <td>surname: Lavocat firstname: Marie link: femme birth_date: 1875 lob: Rigny</td>\n",
       "      <td>nom: Lavocat prénom: Marie date_naissance: 1875 lieux_naissance: Rigny profession: ''</td>\n",
       "      <td>0</td>\n",
       "    </tr>\n",
       "    <tr>\n",
       "      <th>4</th>\n",
       "      <td>surname: Benne firstname: Marguerite age: 78</td>\n",
       "      <td>nom: Benne prénom: Marguerite date_naissance: 78 lieux_naissance: id relation: ''</td>\n",
       "      <td>0</td>\n",
       "    </tr>\n",
       "  </tbody>\n",
       "</table>\n",
       "</div>"
      ],
      "text/plain": [
       "                                                                           groundtruth  \\\n",
       "0              surname: Chardon firstname: Marie occupation: idem link: fille age: 30    \n",
       "1           surname: Lhopital firstname: Louis-Jean occupation: sp link: chef age: 67    \n",
       "2  surname: Papin firstname: Marie occupation: idem link: idem employer: idem age: 15    \n",
       "3           surname: Lavocat firstname: Marie link: femme birth_date: 1875 lob: Rigny    \n",
       "4                                        surname: Benne firstname: Marguerite age: 78    \n",
       "\n",
       "                                                                                 prediction  \\\n",
       "0                         nom: Chardon prénom: Marie date_naissance: 30 lieux_naissance: \"    \n",
       "1  nom: Lhopital prénom: Louis Jean date_naissance: 67 lieux_naissance: Sn employeur: ahef    \n",
       "2                                  nom: Pyrin prénom: Marie date_naissance: 55 relation: d    \n",
       "3    nom: Lavocat prénom: Marie date_naissance: 1875 lieux_naissance: Rigny profession: ''    \n",
       "4        nom: Benne prénom: Marguerite date_naissance: 78 lieux_naissance: id relation: ''    \n",
       "\n",
       "   target  \n",
       "0       0  \n",
       "1       1  \n",
       "2       0  \n",
       "3       0  \n",
       "4       0  "
      ]
     },
     "execution_count": 23,
     "metadata": {},
     "output_type": "execute_result"
    }
   ],
   "source": [
    "# removing the column 'subject_line' as it is just an identifier without importance for the model training\n",
    "transcriptions.drop('subject_line', axis=1, inplace=True)\n",
    "transcriptions.head()"
   ]
  },
  {
   "cell_type": "markdown",
   "metadata": {},
   "source": [
    "Now I'm lowercasing the 'groundtruth' and 'prediction' columns because the firstname dataset also contains only names with lower case letters. Besides that, I rename the column 'prediction' by 'detected_text' to avoid confusion with the target variable that I want to predict here."
   ]
  },
  {
   "cell_type": "code",
   "execution_count": 24,
   "metadata": {},
   "outputs": [
    {
     "data": {
      "text/html": [
       "<div>\n",
       "<style scoped>\n",
       "    .dataframe tbody tr th:only-of-type {\n",
       "        vertical-align: middle;\n",
       "    }\n",
       "\n",
       "    .dataframe tbody tr th {\n",
       "        vertical-align: top;\n",
       "    }\n",
       "\n",
       "    .dataframe thead th {\n",
       "        text-align: right;\n",
       "    }\n",
       "</style>\n",
       "<table border=\"1\" class=\"dataframe\">\n",
       "  <thead>\n",
       "    <tr style=\"text-align: right;\">\n",
       "      <th></th>\n",
       "      <th>groundtruth</th>\n",
       "      <th>detected_text</th>\n",
       "      <th>target</th>\n",
       "    </tr>\n",
       "  </thead>\n",
       "  <tbody>\n",
       "    <tr>\n",
       "      <th>0</th>\n",
       "      <td>surname: chardon firstname: marie occupation: idem link: fille age: 30</td>\n",
       "      <td>nom: chardon prénom: marie date_naissance: 30 lieux_naissance: \"</td>\n",
       "      <td>0</td>\n",
       "    </tr>\n",
       "    <tr>\n",
       "      <th>1</th>\n",
       "      <td>surname: lhopital firstname: louis-jean occupation: sp link: chef age: 67</td>\n",
       "      <td>nom: lhopital prénom: louis jean date_naissance: 67 lieux_naissance: sn employeur: ahef</td>\n",
       "      <td>1</td>\n",
       "    </tr>\n",
       "    <tr>\n",
       "      <th>2</th>\n",
       "      <td>surname: papin firstname: marie occupation: idem link: idem employer: idem age: 15</td>\n",
       "      <td>nom: pyrin prénom: marie date_naissance: 55 relation: d</td>\n",
       "      <td>0</td>\n",
       "    </tr>\n",
       "    <tr>\n",
       "      <th>3</th>\n",
       "      <td>surname: lavocat firstname: marie link: femme birth_date: 1875 lob: rigny</td>\n",
       "      <td>nom: lavocat prénom: marie date_naissance: 1875 lieux_naissance: rigny profession: ''</td>\n",
       "      <td>0</td>\n",
       "    </tr>\n",
       "    <tr>\n",
       "      <th>4</th>\n",
       "      <td>surname: benne firstname: marguerite age: 78</td>\n",
       "      <td>nom: benne prénom: marguerite date_naissance: 78 lieux_naissance: id relation: ''</td>\n",
       "      <td>0</td>\n",
       "    </tr>\n",
       "  </tbody>\n",
       "</table>\n",
       "</div>"
      ],
      "text/plain": [
       "                                                                           groundtruth  \\\n",
       "0              surname: chardon firstname: marie occupation: idem link: fille age: 30    \n",
       "1           surname: lhopital firstname: louis-jean occupation: sp link: chef age: 67    \n",
       "2  surname: papin firstname: marie occupation: idem link: idem employer: idem age: 15    \n",
       "3           surname: lavocat firstname: marie link: femme birth_date: 1875 lob: rigny    \n",
       "4                                        surname: benne firstname: marguerite age: 78    \n",
       "\n",
       "                                                                              detected_text  \\\n",
       "0                         nom: chardon prénom: marie date_naissance: 30 lieux_naissance: \"    \n",
       "1  nom: lhopital prénom: louis jean date_naissance: 67 lieux_naissance: sn employeur: ahef    \n",
       "2                                  nom: pyrin prénom: marie date_naissance: 55 relation: d    \n",
       "3    nom: lavocat prénom: marie date_naissance: 1875 lieux_naissance: rigny profession: ''    \n",
       "4        nom: benne prénom: marguerite date_naissance: 78 lieux_naissance: id relation: ''    \n",
       "\n",
       "   target  \n",
       "0       0  \n",
       "1       1  \n",
       "2       0  \n",
       "3       0  \n",
       "4       0  "
      ]
     },
     "execution_count": 24,
     "metadata": {},
     "output_type": "execute_result"
    }
   ],
   "source": [
    "# Lowercase the text in 'groundtruth' and 'prediction' columns\n",
    "transcriptions['groundtruth'] = transcriptions['groundtruth'].str.lower()\n",
    "transcriptions['prediction'] = transcriptions['prediction'].str.lower()\n",
    "\n",
    "# Rename the prediction column for more clarity and to avoid confusion with the prediction of the gender that I want to make\n",
    "transcriptions.rename(columns = {'prediction':'detected_text'}, inplace = True) \n",
    "transcriptions.head()"
   ]
  },
  {
   "cell_type": "code",
   "execution_count": 25,
   "metadata": {},
   "outputs": [
    {
     "data": {
      "text/html": [
       "<div>\n",
       "<style scoped>\n",
       "    .dataframe tbody tr th:only-of-type {\n",
       "        vertical-align: middle;\n",
       "    }\n",
       "\n",
       "    .dataframe tbody tr th {\n",
       "        vertical-align: top;\n",
       "    }\n",
       "\n",
       "    .dataframe thead th {\n",
       "        text-align: right;\n",
       "    }\n",
       "</style>\n",
       "<table border=\"1\" class=\"dataframe\">\n",
       "  <thead>\n",
       "    <tr style=\"text-align: right;\">\n",
       "      <th></th>\n",
       "      <th>firstname</th>\n",
       "      <th>male</th>\n",
       "      <th>female</th>\n",
       "      <th>total_count</th>\n",
       "      <th>name_length</th>\n",
       "      <th>gender_ratio</th>\n",
       "      <th>gender_category</th>\n",
       "    </tr>\n",
       "  </thead>\n",
       "  <tbody>\n",
       "    <tr>\n",
       "      <th>0</th>\n",
       "      <td>marie</td>\n",
       "      <td>10145</td>\n",
       "      <td>2390322</td>\n",
       "      <td>2400467</td>\n",
       "      <td>5</td>\n",
       "      <td>0.004226</td>\n",
       "      <td>Predominantly Female</td>\n",
       "    </tr>\n",
       "    <tr>\n",
       "      <th>1</th>\n",
       "      <td>jean</td>\n",
       "      <td>1869615</td>\n",
       "      <td>6476</td>\n",
       "      <td>1876091</td>\n",
       "      <td>4</td>\n",
       "      <td>0.996548</td>\n",
       "      <td>Predominantly Male</td>\n",
       "    </tr>\n",
       "    <tr>\n",
       "      <th>2</th>\n",
       "      <td>pierre</td>\n",
       "      <td>1475841</td>\n",
       "      <td>5047</td>\n",
       "      <td>1480888</td>\n",
       "      <td>6</td>\n",
       "      <td>0.996592</td>\n",
       "      <td>Predominantly Male</td>\n",
       "    </tr>\n",
       "    <tr>\n",
       "      <th>3</th>\n",
       "      <td>jeanne</td>\n",
       "      <td>1765</td>\n",
       "      <td>1097397</td>\n",
       "      <td>1099162</td>\n",
       "      <td>6</td>\n",
       "      <td>0.001606</td>\n",
       "      <td>Predominantly Female</td>\n",
       "    </tr>\n",
       "    <tr>\n",
       "      <th>4</th>\n",
       "      <td>françois</td>\n",
       "      <td>1089009</td>\n",
       "      <td>5951</td>\n",
       "      <td>1094960</td>\n",
       "      <td>8</td>\n",
       "      <td>0.994565</td>\n",
       "      <td>Predominantly Male</td>\n",
       "    </tr>\n",
       "  </tbody>\n",
       "</table>\n",
       "</div>"
      ],
      "text/plain": [
       "  firstname     male   female  total_count  name_length  gender_ratio  \\\n",
       "0     marie    10145  2390322      2400467            5      0.004226   \n",
       "1      jean  1869615     6476      1876091            4      0.996548   \n",
       "2    pierre  1475841     5047      1480888            6      0.996592   \n",
       "3    jeanne     1765  1097397      1099162            6      0.001606   \n",
       "4  françois  1089009     5951      1094960            8      0.994565   \n",
       "\n",
       "        gender_category  \n",
       "0  Predominantly Female  \n",
       "1    Predominantly Male  \n",
       "2    Predominantly Male  \n",
       "3  Predominantly Female  \n",
       "4    Predominantly Male  "
      ]
     },
     "execution_count": 25,
     "metadata": {},
     "output_type": "execute_result"
    }
   ],
   "source": [
    "firstname.head()"
   ]
  },
  {
   "cell_type": "markdown",
   "metadata": {},
   "source": [
    "When looking at the firstname dataset, I already know at this point that I don't need the 'gender_category' any more. That's why I drop it."
   ]
  },
  {
   "cell_type": "code",
   "execution_count": 26,
   "metadata": {},
   "outputs": [],
   "source": [
    "firstname = firstname.drop('gender_category', axis = 1)"
   ]
  },
  {
   "cell_type": "markdown",
   "metadata": {},
   "source": [
    "# 4. First approach: Name extraction and a very simple ML model"
   ]
  },
  {
   "cell_type": "markdown",
   "metadata": {},
   "source": [
    "## 4.1 Extraction of the first name"
   ]
  },
  {
   "cell_type": "markdown",
   "metadata": {},
   "source": [
    "First, we extract the firstname from the 'detected_text' column. That is done by using the str.extract() function. After that, a - in the name is replaced by a space."
   ]
  },
  {
   "cell_type": "code",
   "execution_count": 27,
   "metadata": {},
   "outputs": [],
   "source": [
    "# Extract the first name\n",
    "transcriptions['extracted_firstname'] = transcriptions['detected_text'].str.extract(r'prénom:\\s*([^\\s]+)')\n",
    "transcriptions['extracted_firstname'] = transcriptions['extracted_firstname'].str.replace('-', ' ', regex=False)"
   ]
  },
  {
   "cell_type": "markdown",
   "metadata": {},
   "source": [
    "After that, it's important to find out which of the extracted names can be found in the firstname dataset and which of them are not. For that, I create a list containing all the names from the firstname data frame.\n",
    "\n",
    "Then, a new column 'name_found' is added, indicating whether the extracted name has been found (True) or not (False)."
   ]
  },
  {
   "cell_type": "code",
   "execution_count": 28,
   "metadata": {},
   "outputs": [
    {
     "data": {
      "text/html": [
       "<div>\n",
       "<style scoped>\n",
       "    .dataframe tbody tr th:only-of-type {\n",
       "        vertical-align: middle;\n",
       "    }\n",
       "\n",
       "    .dataframe tbody tr th {\n",
       "        vertical-align: top;\n",
       "    }\n",
       "\n",
       "    .dataframe thead th {\n",
       "        text-align: right;\n",
       "    }\n",
       "</style>\n",
       "<table border=\"1\" class=\"dataframe\">\n",
       "  <thead>\n",
       "    <tr style=\"text-align: right;\">\n",
       "      <th></th>\n",
       "      <th>groundtruth</th>\n",
       "      <th>detected_text</th>\n",
       "      <th>target</th>\n",
       "      <th>extracted_firstname</th>\n",
       "      <th>name_found</th>\n",
       "    </tr>\n",
       "  </thead>\n",
       "  <tbody>\n",
       "    <tr>\n",
       "      <th>0</th>\n",
       "      <td>surname: chardon firstname: marie occupation: idem link: fille age: 30</td>\n",
       "      <td>nom: chardon prénom: marie date_naissance: 30 lieux_naissance: \"</td>\n",
       "      <td>0</td>\n",
       "      <td>marie</td>\n",
       "      <td>True</td>\n",
       "    </tr>\n",
       "    <tr>\n",
       "      <th>1</th>\n",
       "      <td>surname: lhopital firstname: louis-jean occupation: sp link: chef age: 67</td>\n",
       "      <td>nom: lhopital prénom: louis jean date_naissance: 67 lieux_naissance: sn employeur: ahef</td>\n",
       "      <td>1</td>\n",
       "      <td>louis</td>\n",
       "      <td>True</td>\n",
       "    </tr>\n",
       "    <tr>\n",
       "      <th>2</th>\n",
       "      <td>surname: papin firstname: marie occupation: idem link: idem employer: idem age: 15</td>\n",
       "      <td>nom: pyrin prénom: marie date_naissance: 55 relation: d</td>\n",
       "      <td>0</td>\n",
       "      <td>marie</td>\n",
       "      <td>True</td>\n",
       "    </tr>\n",
       "    <tr>\n",
       "      <th>3</th>\n",
       "      <td>surname: lavocat firstname: marie link: femme birth_date: 1875 lob: rigny</td>\n",
       "      <td>nom: lavocat prénom: marie date_naissance: 1875 lieux_naissance: rigny profession: ''</td>\n",
       "      <td>0</td>\n",
       "      <td>marie</td>\n",
       "      <td>True</td>\n",
       "    </tr>\n",
       "    <tr>\n",
       "      <th>4</th>\n",
       "      <td>surname: benne firstname: marguerite age: 78</td>\n",
       "      <td>nom: benne prénom: marguerite date_naissance: 78 lieux_naissance: id relation: ''</td>\n",
       "      <td>0</td>\n",
       "      <td>marguerite</td>\n",
       "      <td>True</td>\n",
       "    </tr>\n",
       "  </tbody>\n",
       "</table>\n",
       "</div>"
      ],
      "text/plain": [
       "                                                                           groundtruth  \\\n",
       "0              surname: chardon firstname: marie occupation: idem link: fille age: 30    \n",
       "1           surname: lhopital firstname: louis-jean occupation: sp link: chef age: 67    \n",
       "2  surname: papin firstname: marie occupation: idem link: idem employer: idem age: 15    \n",
       "3           surname: lavocat firstname: marie link: femme birth_date: 1875 lob: rigny    \n",
       "4                                        surname: benne firstname: marguerite age: 78    \n",
       "\n",
       "                                                                              detected_text  \\\n",
       "0                         nom: chardon prénom: marie date_naissance: 30 lieux_naissance: \"    \n",
       "1  nom: lhopital prénom: louis jean date_naissance: 67 lieux_naissance: sn employeur: ahef    \n",
       "2                                  nom: pyrin prénom: marie date_naissance: 55 relation: d    \n",
       "3    nom: lavocat prénom: marie date_naissance: 1875 lieux_naissance: rigny profession: ''    \n",
       "4        nom: benne prénom: marguerite date_naissance: 78 lieux_naissance: id relation: ''    \n",
       "\n",
       "   target extracted_firstname  name_found  \n",
       "0       0               marie        True  \n",
       "1       1               louis        True  \n",
       "2       0               marie        True  \n",
       "3       0               marie        True  \n",
       "4       0          marguerite        True  "
      ]
     },
     "execution_count": 28,
     "metadata": {},
     "output_type": "execute_result"
    }
   ],
   "source": [
    "# Convert the list of valid firstnames to a set for faster membership testing\n",
    "valid_names = set(firstname['firstname'])\n",
    "\n",
    "# Check if each name in 'extracted_firstname' is found in the 'valid_names' set\n",
    "transcriptions['name_found'] = transcriptions['extracted_firstname'].isin(valid_names)\n",
    "transcriptions.head()"
   ]
  },
  {
   "cell_type": "markdown",
   "metadata": {},
   "source": [
    "Before applying it to the names that were not found, we need to define the following function. This function utilizes the Levenshtein distance to find the closest / most similar name in the firstname dataframe. The Levenshtein distance is a measure of the minimum number of single-character edits (insertions, deletions, or substitutions) required to change one word or text string into another. Further information can be found here: https://en.wikipedia.org/wiki/Levenshtein_distance\n",
    "\n",
    "Even though it can be expected that the Levenshtein distance cannot find the original name from the groundtruth for every name that was not found, I would like to argue that it is suitable because of the following reason: In quite some cases, the automatic transcription of the handwriting just messes up one letter of the firstname. In this case, it is likely that the right name can be found using this technique."
   ]
  },
  {
   "cell_type": "code",
   "execution_count": 29,
   "metadata": {},
   "outputs": [],
   "source": [
    "# define a function to get the name which is closest to the name that has not been found\n",
    "def find_closest_name(bad_name, firstname_df):\n",
    "    closest_name = None\n",
    "    min_distance = float('inf')  # Start with an infinitely bad distance.\n",
    "    \n",
    "    for name in firstname_df['firstname']:\n",
    "        dist = levenshtein_distance(bad_name, name)\n",
    "        if dist < min_distance:\n",
    "            min_distance = dist\n",
    "            closest_name = name\n",
    "\n",
    "    return closest_name"
   ]
  },
  {
   "cell_type": "markdown",
   "metadata": {},
   "source": [
    "In the following, we define a function that decides when to call the function from above and when not. Finally, the corrected_firstname is saved in a separate column.\n",
    "In the end of the cell, we output a few rows of the dataset where the name has not be found. Like that, we can see that a few names could be corrected so that they match the groundtruth. Others however do not match the groundtruth successfully. The reasons for that is probably, that the firstname in the automatically detected text is too far away from the groundtruth."
   ]
  },
  {
   "cell_type": "code",
   "execution_count": 30,
   "metadata": {},
   "outputs": [
    {
     "data": {
      "text/html": [
       "<div>\n",
       "<style scoped>\n",
       "    .dataframe tbody tr th:only-of-type {\n",
       "        vertical-align: middle;\n",
       "    }\n",
       "\n",
       "    .dataframe tbody tr th {\n",
       "        vertical-align: top;\n",
       "    }\n",
       "\n",
       "    .dataframe thead th {\n",
       "        text-align: right;\n",
       "    }\n",
       "</style>\n",
       "<table border=\"1\" class=\"dataframe\">\n",
       "  <thead>\n",
       "    <tr style=\"text-align: right;\">\n",
       "      <th></th>\n",
       "      <th>groundtruth</th>\n",
       "      <th>detected_text</th>\n",
       "      <th>target</th>\n",
       "      <th>extracted_firstname</th>\n",
       "      <th>name_found</th>\n",
       "      <th>corrected_firstname</th>\n",
       "    </tr>\n",
       "  </thead>\n",
       "  <tbody>\n",
       "    <tr>\n",
       "      <th>18</th>\n",
       "      <td>surname: vivier firstname: antoine occupation: cultivateur link: chef age: 45 birth_date: 1841</td>\n",
       "      <td>nom: vivier prénom: angène date_naissance: 180n lieux_naissance: aulgique état_civil: d relation: ch</td>\n",
       "      <td>1</td>\n",
       "      <td>angène</td>\n",
       "      <td>False</td>\n",
       "      <td>angèle</td>\n",
       "    </tr>\n",
       "    <tr>\n",
       "      <th>24</th>\n",
       "      <td>surname: debouesse firstname: alexandre occupation: couvreur link: chef employer: patron age: 42</td>\n",
       "      <td>nom: debouese prénom: herandre date_naissance: 42 lieux_naissance: chef profession: patron</td>\n",
       "      <td>1</td>\n",
       "      <td>herandre</td>\n",
       "      <td>False</td>\n",
       "      <td>leandre</td>\n",
       "    </tr>\n",
       "    <tr>\n",
       "      <th>25</th>\n",
       "      <td>surname: martin firstname: marguerite occupation: idem link: épouse employer: idem age: 30</td>\n",
       "      <td>nom: marhi prénom: oarguerite date_naissance: 30 lieux_naissance: d relation: ep</td>\n",
       "      <td>0</td>\n",
       "      <td>oarguerite</td>\n",
       "      <td>False</td>\n",
       "      <td>marguerite</td>\n",
       "    </tr>\n",
       "    <tr>\n",
       "      <th>34</th>\n",
       "      <td>surname: aumaitre firstname: virginie link: ép birth_date: 1852 lob: saint-avit puy-de-dome</td>\n",
       "      <td>prénom: vigmie date_naissance: 1852 lieux_naissance: savit relation: ep</td>\n",
       "      <td>0</td>\n",
       "      <td>vigmie</td>\n",
       "      <td>False</td>\n",
       "      <td>mimie</td>\n",
       "    </tr>\n",
       "    <tr>\n",
       "      <th>62</th>\n",
       "      <td>surname: daviot firstname: jean-marie occupation: domestique de ferme link: domestique de ferme age: 25</td>\n",
       "      <td>nom: davist prénom: jean-marie date_naissance: 25 lieux_naissance: d</td>\n",
       "      <td>1</td>\n",
       "      <td>jean marie</td>\n",
       "      <td>False</td>\n",
       "      <td>jeannemarie</td>\n",
       "    </tr>\n",
       "    <tr>\n",
       "      <th>65</th>\n",
       "      <td>surname: fleury firstname: antoine link: idem age: 7 ans</td>\n",
       "      <td>nom: fleury prénom: angloise date_naissance: 7 44 lieux_naissance: id état_civil: '</td>\n",
       "      <td>1</td>\n",
       "      <td>angloise</td>\n",
       "      <td>False</td>\n",
       "      <td>aloise</td>\n",
       "    </tr>\n",
       "    <tr>\n",
       "      <th>69</th>\n",
       "      <td>surname: pénot firstname: françois occupation: métayer link: chef age: 39</td>\n",
       "      <td>nom: pénot prénom: feris date_naissance: 3903 état_civil: m relation: metages relation: chef</td>\n",
       "      <td>1</td>\n",
       "      <td>feris</td>\n",
       "      <td>False</td>\n",
       "      <td>denis</td>\n",
       "    </tr>\n",
       "    <tr>\n",
       "      <th>82</th>\n",
       "      <td>surname: brun firstname: jacques occupation: garde-champêtre link: chef age: 50 ans</td>\n",
       "      <td>nom: brun prénom: jregues date_naissance: 5 0nne état_civil: chef</td>\n",
       "      <td>1</td>\n",
       "      <td>jregues</td>\n",
       "      <td>False</td>\n",
       "      <td>jacques</td>\n",
       "    </tr>\n",
       "    <tr>\n",
       "      <th>94</th>\n",
       "      <td>surname: roumeau firstname: claude occupation: cultivateur link: chef age: 30 ans</td>\n",
       "      <td>nom: roumeau prénom: vaude date_naissance: 1804 lieux_naissance: aulpares relation: chef</td>\n",
       "      <td>1</td>\n",
       "      <td>vaude</td>\n",
       "      <td>False</td>\n",
       "      <td>haude</td>\n",
       "    </tr>\n",
       "    <tr>\n",
       "      <th>104</th>\n",
       "      <td>surname: pégand firstname: gilbert occupation: culivateur link: chef employer: patron age: 55</td>\n",
       "      <td>nom: pegand prénom: gilbeuse date_naissance: 85 lieux_naissance: chef relation: patron</td>\n",
       "      <td>1</td>\n",
       "      <td>gilbeuse</td>\n",
       "      <td>False</td>\n",
       "      <td>gilberte</td>\n",
       "    </tr>\n",
       "  </tbody>\n",
       "</table>\n",
       "</div>"
      ],
      "text/plain": [
       "                                                                                                  groundtruth  \\\n",
       "18            surname: vivier firstname: antoine occupation: cultivateur link: chef age: 45 birth_date: 1841    \n",
       "24          surname: debouesse firstname: alexandre occupation: couvreur link: chef employer: patron age: 42    \n",
       "25                surname: martin firstname: marguerite occupation: idem link: épouse employer: idem age: 30    \n",
       "34               surname: aumaitre firstname: virginie link: ép birth_date: 1852 lob: saint-avit puy-de-dome    \n",
       "62   surname: daviot firstname: jean-marie occupation: domestique de ferme link: domestique de ferme age: 25    \n",
       "65                                                  surname: fleury firstname: antoine link: idem age: 7 ans    \n",
       "69                                 surname: pénot firstname: françois occupation: métayer link: chef age: 39    \n",
       "82                       surname: brun firstname: jacques occupation: garde-champêtre link: chef age: 50 ans    \n",
       "94                         surname: roumeau firstname: claude occupation: cultivateur link: chef age: 30 ans    \n",
       "104            surname: pégand firstname: gilbert occupation: culivateur link: chef employer: patron age: 55    \n",
       "\n",
       "                                                                                             detected_text  \\\n",
       "18   nom: vivier prénom: angène date_naissance: 180n lieux_naissance: aulgique état_civil: d relation: ch    \n",
       "24             nom: debouese prénom: herandre date_naissance: 42 lieux_naissance: chef profession: patron    \n",
       "25                       nom: marhi prénom: oarguerite date_naissance: 30 lieux_naissance: d relation: ep    \n",
       "34                                prénom: vigmie date_naissance: 1852 lieux_naissance: savit relation: ep    \n",
       "62                                   nom: davist prénom: jean-marie date_naissance: 25 lieux_naissance: d    \n",
       "65                    nom: fleury prénom: angloise date_naissance: 7 44 lieux_naissance: id état_civil: '    \n",
       "69           nom: pénot prénom: feris date_naissance: 3903 état_civil: m relation: metages relation: chef    \n",
       "82                                      nom: brun prénom: jregues date_naissance: 5 0nne état_civil: chef    \n",
       "94               nom: roumeau prénom: vaude date_naissance: 1804 lieux_naissance: aulpares relation: chef    \n",
       "104                nom: pegand prénom: gilbeuse date_naissance: 85 lieux_naissance: chef relation: patron    \n",
       "\n",
       "     target extracted_firstname  name_found corrected_firstname  \n",
       "18        1              angène       False              angèle  \n",
       "24        1            herandre       False             leandre  \n",
       "25        0          oarguerite       False          marguerite  \n",
       "34        0              vigmie       False               mimie  \n",
       "62        1          jean marie       False         jeannemarie  \n",
       "65        1            angloise       False              aloise  \n",
       "69        1               feris       False               denis  \n",
       "82        1             jregues       False             jacques  \n",
       "94        1               vaude       False               haude  \n",
       "104       1            gilbeuse       False            gilberte  "
      ]
     },
     "execution_count": 30,
     "metadata": {},
     "output_type": "execute_result"
    }
   ],
   "source": [
    "# define a function that calls find_closest_name() if necessary and otherwise just returns the extracted-firstname\n",
    "def get_corrected_name(row, firstname_df):\n",
    "    if not row['name_found']:  # If the name was not found\n",
    "        return find_closest_name(row['extracted_firstname'], firstname_df)\n",
    "    else:\n",
    "        return row['extracted_firstname']\n",
    "\n",
    "# apply the function and save the results in a new column called 'corrected_firstname'\n",
    "transcriptions['corrected_firstname'] = transcriptions.apply(get_corrected_name, args=(firstname,), axis=1)\n",
    "transcriptions[transcriptions['name_found'] == False].head(10)"
   ]
  },
  {
   "cell_type": "markdown",
   "metadata": {},
   "source": [
    "## 4.2 Merging the datasets"
   ]
  },
  {
   "cell_type": "markdown",
   "metadata": {},
   "source": [
    "Next, we merge the 'transcriptions' and the 'firstname' dataset. We use transcriptions['corrected_firstname'] and firstname['firstname'] as key for this merge. Like that, we have a gender_ratio in each row which we can use as learning feature in the next step. I delete columns that are not required and more and which just comprimise the overview over the dataframe."
   ]
  },
  {
   "cell_type": "code",
   "execution_count": 31,
   "metadata": {},
   "outputs": [
    {
     "data": {
      "text/html": [
       "<div>\n",
       "<style scoped>\n",
       "    .dataframe tbody tr th:only-of-type {\n",
       "        vertical-align: middle;\n",
       "    }\n",
       "\n",
       "    .dataframe tbody tr th {\n",
       "        vertical-align: top;\n",
       "    }\n",
       "\n",
       "    .dataframe thead th {\n",
       "        text-align: right;\n",
       "    }\n",
       "</style>\n",
       "<table border=\"1\" class=\"dataframe\">\n",
       "  <thead>\n",
       "    <tr style=\"text-align: right;\">\n",
       "      <th></th>\n",
       "      <th>groundtruth</th>\n",
       "      <th>detected_text</th>\n",
       "      <th>target</th>\n",
       "      <th>extracted_firstname</th>\n",
       "      <th>name_found</th>\n",
       "      <th>corrected_firstname</th>\n",
       "      <th>name_length</th>\n",
       "      <th>gender_ratio</th>\n",
       "    </tr>\n",
       "  </thead>\n",
       "  <tbody>\n",
       "    <tr>\n",
       "      <th>0</th>\n",
       "      <td>surname: chardon firstname: marie occupation: idem link: fille age: 30</td>\n",
       "      <td>nom: chardon prénom: marie date_naissance: 30 lieux_naissance: \"</td>\n",
       "      <td>0</td>\n",
       "      <td>marie</td>\n",
       "      <td>True</td>\n",
       "      <td>marie</td>\n",
       "      <td>5</td>\n",
       "      <td>0.004226</td>\n",
       "    </tr>\n",
       "    <tr>\n",
       "      <th>1</th>\n",
       "      <td>surname: lhopital firstname: louis-jean occupation: sp link: chef age: 67</td>\n",
       "      <td>nom: lhopital prénom: louis jean date_naissance: 67 lieux_naissance: sn employeur: ahef</td>\n",
       "      <td>1</td>\n",
       "      <td>louis</td>\n",
       "      <td>True</td>\n",
       "      <td>louis</td>\n",
       "      <td>5</td>\n",
       "      <td>0.996389</td>\n",
       "    </tr>\n",
       "    <tr>\n",
       "      <th>2</th>\n",
       "      <td>surname: papin firstname: marie occupation: idem link: idem employer: idem age: 15</td>\n",
       "      <td>nom: pyrin prénom: marie date_naissance: 55 relation: d</td>\n",
       "      <td>0</td>\n",
       "      <td>marie</td>\n",
       "      <td>True</td>\n",
       "      <td>marie</td>\n",
       "      <td>5</td>\n",
       "      <td>0.004226</td>\n",
       "    </tr>\n",
       "    <tr>\n",
       "      <th>3</th>\n",
       "      <td>surname: lavocat firstname: marie link: femme birth_date: 1875 lob: rigny</td>\n",
       "      <td>nom: lavocat prénom: marie date_naissance: 1875 lieux_naissance: rigny profession: ''</td>\n",
       "      <td>0</td>\n",
       "      <td>marie</td>\n",
       "      <td>True</td>\n",
       "      <td>marie</td>\n",
       "      <td>5</td>\n",
       "      <td>0.004226</td>\n",
       "    </tr>\n",
       "    <tr>\n",
       "      <th>4</th>\n",
       "      <td>surname: benne firstname: marguerite age: 78</td>\n",
       "      <td>nom: benne prénom: marguerite date_naissance: 78 lieux_naissance: id relation: ''</td>\n",
       "      <td>0</td>\n",
       "      <td>marguerite</td>\n",
       "      <td>True</td>\n",
       "      <td>marguerite</td>\n",
       "      <td>10</td>\n",
       "      <td>0.001767</td>\n",
       "    </tr>\n",
       "  </tbody>\n",
       "</table>\n",
       "</div>"
      ],
      "text/plain": [
       "                                                                           groundtruth  \\\n",
       "0              surname: chardon firstname: marie occupation: idem link: fille age: 30    \n",
       "1           surname: lhopital firstname: louis-jean occupation: sp link: chef age: 67    \n",
       "2  surname: papin firstname: marie occupation: idem link: idem employer: idem age: 15    \n",
       "3           surname: lavocat firstname: marie link: femme birth_date: 1875 lob: rigny    \n",
       "4                                        surname: benne firstname: marguerite age: 78    \n",
       "\n",
       "                                                                              detected_text  \\\n",
       "0                         nom: chardon prénom: marie date_naissance: 30 lieux_naissance: \"    \n",
       "1  nom: lhopital prénom: louis jean date_naissance: 67 lieux_naissance: sn employeur: ahef    \n",
       "2                                  nom: pyrin prénom: marie date_naissance: 55 relation: d    \n",
       "3    nom: lavocat prénom: marie date_naissance: 1875 lieux_naissance: rigny profession: ''    \n",
       "4        nom: benne prénom: marguerite date_naissance: 78 lieux_naissance: id relation: ''    \n",
       "\n",
       "   target extracted_firstname  name_found corrected_firstname  name_length  \\\n",
       "0       0               marie        True               marie            5   \n",
       "1       1               louis        True               louis            5   \n",
       "2       0               marie        True               marie            5   \n",
       "3       0               marie        True               marie            5   \n",
       "4       0          marguerite        True          marguerite           10   \n",
       "\n",
       "   gender_ratio  \n",
       "0      0.004226  \n",
       "1      0.996389  \n",
       "2      0.004226  \n",
       "3      0.004226  \n",
       "4      0.001767  "
      ]
     },
     "execution_count": 31,
     "metadata": {},
     "output_type": "execute_result"
    }
   ],
   "source": [
    "# Merge transcriptions with firstname on the extracted_firstname column\n",
    "df_merged = pd.merge(transcriptions, firstname, left_on='corrected_firstname', right_on='firstname', how='left')\n",
    "\n",
    "df_merged = df_merged.drop(['firstname', 'male', 'female','total_count'], axis=1)\n",
    "\n",
    "df_merged.head()"
   ]
  },
  {
   "cell_type": "markdown",
   "metadata": {},
   "source": [
    "## 4.3 Logistic Regression"
   ]
  },
  {
   "cell_type": "markdown",
   "metadata": {},
   "source": [
    "At this point in time, we can start to learn our first model. For the beginning, I have chosen a logistic regression which is specifically designed for binary classification problems like the one we are dealing with here. Further thoughts about the model choice and different advantages and disadvantages of the different models in this notebook are provided in the project report.\n",
    "\n",
    "We are using only the 'gender_ratio' as a feature. We have seen that this one is increadibly much indicative for the gender. As the detected text often differs significantly from the groundtruth, it is advisable not to use too much information from it.\n",
    "\n",
    "We're using a simple train-test split and print the classification report in the end."
   ]
  },
  {
   "cell_type": "code",
   "execution_count": 32,
   "metadata": {},
   "outputs": [
    {
     "name": "stdout",
     "output_type": "stream",
     "text": [
      "              precision    recall  f1-score   support\n",
      "\n",
      "           0       0.92      0.96      0.94        23\n",
      "           1       0.96      0.92      0.94        26\n",
      "\n",
      "    accuracy                           0.94        49\n",
      "   macro avg       0.94      0.94      0.94        49\n",
      "weighted avg       0.94      0.94      0.94        49\n",
      "\n"
     ]
    }
   ],
   "source": [
    "# Features and Target\n",
    "X = df_merged[['gender_ratio']]  #  features\n",
    "y = df_merged['target']  # y is the target variable\n",
    "\n",
    "# Splitting the dataset into training and testing sets\n",
    "X_train, X_test, y_train, y_test = train_test_split(X, y, test_size=0.2, random_state=42)\n",
    "\n",
    "# Initialize and train logistic regression model\n",
    "model = LogisticRegression()\n",
    "model.fit(X_train, y_train)\n",
    "\n",
    "# Predict on the test set\n",
    "y_pred = model.predict(X_test)\n",
    "\n",
    "# Evaluate the model\n",
    "print(classification_report(y_test, y_pred))"
   ]
  },
  {
   "cell_type": "markdown",
   "metadata": {},
   "source": [
    "Next, we would like to get more robust results by using cross validation. This makes sense as we have a rather small train and test set and so we can make sure that each row ends up in both sets at some point."
   ]
  },
  {
   "cell_type": "code",
   "execution_count": 33,
   "metadata": {},
   "outputs": [
    {
     "name": "stdout",
     "output_type": "stream",
     "text": [
      "Accuracy for each fold:  [0.97959184 0.95833333 0.95833333 0.95833333 0.9375    ]\n",
      "Mean cross-validation accuracy:  0.9584183673469389\n",
      "Standard deviation of cross-validation accuracy:  0.013311014917924819\n"
     ]
    }
   ],
   "source": [
    "# Features and Target\n",
    "X = df_merged[['gender_ratio']]  # features\n",
    "y = df_merged['target']  # target variable\n",
    "\n",
    "# Initialize logistic regression model\n",
    "model = LogisticRegression()\n",
    "\n",
    "# Perform 5-fold cross-validation\n",
    "scores = cross_val_score(model, X, y, cv=5)\n",
    "\n",
    "# Print the accuracy for each fold\n",
    "print(\"Accuracy for each fold: \", scores)\n",
    "\n",
    "# Print mean accuracy and standard deviation\n",
    "print(\"Mean cross-validation accuracy: \", np.mean(scores))\n",
    "print(\"Standard deviation of cross-validation accuracy: \", np.std(scores))"
   ]
  },
  {
   "cell_type": "markdown",
   "metadata": {},
   "source": [
    "We can see that the accuracy is between 93% and 98% at each time with an average accuracy of about 96%. Those number can differ slightly when adjusting the random_state above.\n",
    "\n",
    "We can summarize that we can achieve very good results with a simple model after we have done extensive data exploration, cleaning and preprocessing."
   ]
  },
  {
   "cell_type": "markdown",
   "metadata": {},
   "source": [
    "## 4.4 Decision Stump\n",
    "\n",
    "Next, I wanted to try an even simpler model. In the next cell, we are learning a decision stump (a decision tree with a depth of 1)."
   ]
  },
  {
   "cell_type": "code",
   "execution_count": 34,
   "metadata": {},
   "outputs": [
    {
     "name": "stdout",
     "output_type": "stream",
     "text": [
      "Decision Stump Classification Report:\n",
      "              precision    recall  f1-score   support\n",
      "\n",
      "           0       0.92      0.96      0.94        23\n",
      "           1       0.96      0.92      0.94        26\n",
      "\n",
      "    accuracy                           0.94        49\n",
      "   macro avg       0.94      0.94      0.94        49\n",
      "weighted avg       0.94      0.94      0.94        49\n",
      "\n"
     ]
    }
   ],
   "source": [
    "X = df_merged[['gender_ratio']]  # Features\n",
    "y = df_merged['target']  # Target variable\n",
    "\n",
    "# Splitting the dataset into training and testing sets\n",
    "X_train, X_test, y_train, y_test = train_test_split(X, y, test_size=0.2, random_state=42)\n",
    "\n",
    "# Initialize and train the decision stump\n",
    "stump = DecisionTreeClassifier(max_depth=1, random_state=42)\n",
    "stump.fit(X_train, y_train)\n",
    "\n",
    "# Predict on the test set\n",
    "y_pred_stump = stump.predict(X_test)\n",
    "\n",
    "# Evaluate the model\n",
    "print(\"Decision Stump Classification Report:\")\n",
    "print(classification_report(y_test, y_pred_stump))"
   ]
  },
  {
   "cell_type": "markdown",
   "metadata": {},
   "source": [
    "As we can see, with a decision stump we can achieve the exact same results as with the logistic regression. This is little surprising as we had only one feature used for the logistic regression."
   ]
  },
  {
   "cell_type": "code",
   "execution_count": 35,
   "metadata": {},
   "outputs": [
    {
     "data": {
      "text/plain": [
       "[Text(0.5, 0.75, 'gender_ratio <= 0.511\\ngini = 0.497\\nsamples = 192\\nvalue = [88, 104]\\nclass = 1'),\n",
       " Text(0.25, 0.25, 'gini = 0.137\\nsamples = 95\\nvalue = [88, 7]\\nclass = 0'),\n",
       " Text(0.75, 0.25, 'gini = 0.0\\nsamples = 97\\nvalue = [0, 97]\\nclass = 1')]"
      ]
     },
     "execution_count": 35,
     "metadata": {},
     "output_type": "execute_result"
    },
    {
     "data": {
      "image/png": "[encoded data removed]",
      "text/plain": [
       "<Figure size 640x480 with 1 Axes>"
      ]
     },
     "metadata": {},
     "output_type": "display_data"
    }
   ],
   "source": [
    "tree.plot_tree(stump,\n",
    "           feature_names = ['gender_ratio'], \n",
    "           class_names=['0', '1'],\n",
    "           filled = True)"
   ]
  },
  {
   "cell_type": "code",
   "execution_count": 36,
   "metadata": {},
   "outputs": [
    {
     "data": {
      "image/png": "[encoded data removed]",
      "text/plain": [
       "<Figure size 640x480 with 2 Axes>"
      ]
     },
     "metadata": {},
     "output_type": "display_data"
    }
   ],
   "source": [
    "cm = confusion_matrix(y_test, y_pred_stump)\n",
    "disp = ConfusionMatrixDisplay(confusion_matrix=cm)\n",
    "disp.plot()\n",
    "plt.show()"
   ]
  },
  {
   "cell_type": "code",
   "execution_count": 37,
   "metadata": {},
   "outputs": [],
   "source": [
    "y_scores = stump.predict_proba(X_test)[:, 1]  # get the score for the positive class\n",
    "\n",
    "# Compute ROC curve and ROC area\n",
    "fpr, tpr, thresholds = roc_curve(y_test, y_scores)\n",
    "roc_auc = auc(fpr, tpr)"
   ]
  },
  {
   "cell_type": "code",
   "execution_count": 38,
   "metadata": {},
   "outputs": [
    {
     "data": {
      "image/png": "[encoded data removed]",
      "text/plain": [
       "<Figure size 640x480 with 1 Axes>"
      ]
     },
     "metadata": {},
     "output_type": "display_data"
    }
   ],
   "source": [
    "plt.figure()\n",
    "lw = 2  # line width\n",
    "plt.plot(fpr, tpr, color='darkorange', lw=lw, label='ROC curve (area = %0.2f)' % roc_auc)\n",
    "plt.plot([0, 1], [0, 1], color='navy', lw=lw, linestyle='--')\n",
    "plt.xlim([0.0, 1.0])\n",
    "plt.ylim([0.0, 1.05])\n",
    "plt.xlabel('False Positive Rate')\n",
    "plt.ylabel('True Positive Rate')\n",
    "plt.title('Receiver Operating Characteristic')\n",
    "plt.legend(loc=\"lower right\")\n",
    "plt.show()"
   ]
  },
  {
   "cell_type": "markdown",
   "metadata": {},
   "source": [
    "We are creating a data frame with columns that are relevant to examing the results of the prediction. That included the real names (groundtruth), the extracted names and the corrected names as well as our the one corresponding feature. Lastly, there are the predicted and the real label (y)."
   ]
  },
  {
   "cell_type": "code",
   "execution_count": 39,
   "metadata": {},
   "outputs": [
    {
     "data": {
      "text/html": [
       "<div>\n",
       "<style scoped>\n",
       "    .dataframe tbody tr th:only-of-type {\n",
       "        vertical-align: middle;\n",
       "    }\n",
       "\n",
       "    .dataframe tbody tr th {\n",
       "        vertical-align: top;\n",
       "    }\n",
       "\n",
       "    .dataframe thead th {\n",
       "        text-align: right;\n",
       "    }\n",
       "</style>\n",
       "<table border=\"1\" class=\"dataframe\">\n",
       "  <thead>\n",
       "    <tr style=\"text-align: right;\">\n",
       "      <th></th>\n",
       "      <th>groundtruth</th>\n",
       "      <th>extracted_firstname</th>\n",
       "      <th>corrected_firstname</th>\n",
       "      <th>gender_ratio</th>\n",
       "      <th>y_pred</th>\n",
       "      <th>y_test</th>\n",
       "    </tr>\n",
       "  </thead>\n",
       "  <tbody>\n",
       "    <tr>\n",
       "      <th>24</th>\n",
       "      <td>surname: debouesse firstname: alexandre occupation: couvreur link: chef employer: patron age: 42</td>\n",
       "      <td>herandre</td>\n",
       "      <td>leandre</td>\n",
       "      <td>0.948718</td>\n",
       "      <td>1</td>\n",
       "      <td>1</td>\n",
       "    </tr>\n",
       "    <tr>\n",
       "      <th>6</th>\n",
       "      <td>surname: bizet firstname: louis link: idem age: 9</td>\n",
       "      <td>louis</td>\n",
       "      <td>louis</td>\n",
       "      <td>0.996389</td>\n",
       "      <td>1</td>\n",
       "      <td>1</td>\n",
       "    </tr>\n",
       "    <tr>\n",
       "      <th>222</th>\n",
       "      <td>surname: mimerel firstname: pierre link: fils age: 8</td>\n",
       "      <td>pierre</td>\n",
       "      <td>pierre</td>\n",
       "      <td>0.996592</td>\n",
       "      <td>1</td>\n",
       "      <td>1</td>\n",
       "    </tr>\n",
       "    <tr>\n",
       "      <th>208</th>\n",
       "      <td>surname: aubouër firstname: claudine occupation: néant link: enfant age: 16</td>\n",
       "      <td>claudine</td>\n",
       "      <td>claudine</td>\n",
       "      <td>0.001707</td>\n",
       "      <td>0</td>\n",
       "      <td>0</td>\n",
       "    </tr>\n",
       "    <tr>\n",
       "      <th>236</th>\n",
       "      <td>surname: burlurut firstname: pétronille occupation: sans profession link: épouse age: 61 ans</td>\n",
       "      <td>gihromille</td>\n",
       "      <td>pétronille</td>\n",
       "      <td>0.002291</td>\n",
       "      <td>0</td>\n",
       "      <td>0</td>\n",
       "    </tr>\n",
       "  </tbody>\n",
       "</table>\n",
       "</div>"
      ],
      "text/plain": [
       "                                                                                           groundtruth  \\\n",
       "24   surname: debouesse firstname: alexandre occupation: couvreur link: chef employer: patron age: 42    \n",
       "6                                                   surname: bizet firstname: louis link: idem age: 9    \n",
       "222                                              surname: mimerel firstname: pierre link: fils age: 8    \n",
       "208                       surname: aubouër firstname: claudine occupation: néant link: enfant age: 16    \n",
       "236      surname: burlurut firstname: pétronille occupation: sans profession link: épouse age: 61 ans    \n",
       "\n",
       "    extracted_firstname corrected_firstname  gender_ratio  y_pred  y_test  \n",
       "24             herandre             leandre      0.948718       1       1  \n",
       "6                 louis               louis      0.996389       1       1  \n",
       "222              pierre              pierre      0.996592       1       1  \n",
       "208            claudine            claudine      0.001707       0       0  \n",
       "236          gihromille          pétronille      0.002291       0       0  "
      ]
     },
     "execution_count": 39,
     "metadata": {},
     "output_type": "execute_result"
    }
   ],
   "source": [
    "results_df = pd.DataFrame({\n",
    "    'groundtruth': df_merged.loc[y_test.index, 'groundtruth'],\n",
    "    'extracted_firstname': df_merged.loc[y_test.index, 'extracted_firstname'],\n",
    "    'corrected_firstname': df_merged.loc[y_test.index, 'corrected_firstname'],\n",
    "    'gender_ratio': X_test['gender_ratio'],\n",
    "    'y_pred': y_pred,\n",
    "    'y_test': y_test\n",
    "}, index=y_test.index)\n",
    "\n",
    "results_df.head()"
   ]
  },
  {
   "cell_type": "markdown",
   "metadata": {},
   "source": [
    "With the following cell, we can have a look specifically at those name that are labeled incorrectly."
   ]
  },
  {
   "cell_type": "code",
   "execution_count": 40,
   "metadata": {},
   "outputs": [
    {
     "data": {
      "text/html": [
       "<div>\n",
       "<style scoped>\n",
       "    .dataframe tbody tr th:only-of-type {\n",
       "        vertical-align: middle;\n",
       "    }\n",
       "\n",
       "    .dataframe tbody tr th {\n",
       "        vertical-align: top;\n",
       "    }\n",
       "\n",
       "    .dataframe thead th {\n",
       "        text-align: right;\n",
       "    }\n",
       "</style>\n",
       "<table border=\"1\" class=\"dataframe\">\n",
       "  <thead>\n",
       "    <tr style=\"text-align: right;\">\n",
       "      <th></th>\n",
       "      <th>groundtruth</th>\n",
       "      <th>extracted_firstname</th>\n",
       "      <th>corrected_firstname</th>\n",
       "      <th>gender_ratio</th>\n",
       "      <th>y_pred</th>\n",
       "      <th>y_test</th>\n",
       "    </tr>\n",
       "  </thead>\n",
       "  <tbody>\n",
       "    <tr>\n",
       "      <th>197</th>\n",
       "      <td>surname: boutot firstname: françoise occupation: domest. link: domest. employer: lavany age: 16</td>\n",
       "      <td>faul</td>\n",
       "      <td>paul</td>\n",
       "      <td>0.996657</td>\n",
       "      <td>1</td>\n",
       "      <td>0</td>\n",
       "    </tr>\n",
       "    <tr>\n",
       "      <th>18</th>\n",
       "      <td>surname: vivier firstname: antoine occupation: cultivateur link: chef age: 45 birth_date: 1841</td>\n",
       "      <td>angène</td>\n",
       "      <td>angèle</td>\n",
       "      <td>0.003936</td>\n",
       "      <td>0</td>\n",
       "      <td>1</td>\n",
       "    </tr>\n",
       "    <tr>\n",
       "      <th>126</th>\n",
       "      <td>surname: ouverkierviez firstname: stanislas link: fils birth_date: 1924 lob: cerny-lès-bucy</td>\n",
       "      <td>mamiolas</td>\n",
       "      <td>mariola</td>\n",
       "      <td>0.000000</td>\n",
       "      <td>0</td>\n",
       "      <td>1</td>\n",
       "    </tr>\n",
       "  </tbody>\n",
       "</table>\n",
       "</div>"
      ],
      "text/plain": [
       "                                                                                          groundtruth  \\\n",
       "197  surname: boutot firstname: françoise occupation: domest. link: domest. employer: lavany age: 16    \n",
       "18    surname: vivier firstname: antoine occupation: cultivateur link: chef age: 45 birth_date: 1841    \n",
       "126      surname: ouverkierviez firstname: stanislas link: fils birth_date: 1924 lob: cerny-lès-bucy    \n",
       "\n",
       "    extracted_firstname corrected_firstname  gender_ratio  y_pred  y_test  \n",
       "197                faul                paul      0.996657       1       0  \n",
       "18               angène              angèle      0.003936       0       1  \n",
       "126            mamiolas             mariola      0.000000       0       1  "
      ]
     },
     "execution_count": 40,
     "metadata": {},
     "output_type": "execute_result"
    }
   ],
   "source": [
    "# filter to those names which were classified incorrectly\n",
    "results_df[results_df['y_pred'] != results_df['y_test']]"
   ]
  },
  {
   "cell_type": "markdown",
   "metadata": {},
   "source": [
    "By comparing the groundtruth with the extracted firstname and the corrected firstname, we can see the following: Usually, the automatically detected firstname is too far away from the true name so that it's impossible to come back to the true name through the Levenshtein distance. Then, if the corrected_firstname has the wrong gender (the wrong gender ratio) it is leading to a misclassification.\n",
    "\n",
    "Next, I would like to make sure that the performance is similar (the same) to logistic regression by performing 5-fold cross-validation as well."
   ]
  },
  {
   "cell_type": "code",
   "execution_count": 41,
   "metadata": {},
   "outputs": [
    {
     "name": "stdout",
     "output_type": "stream",
     "text": [
      "Accuracy for each fold:\n",
      "[0.97959184 0.95833333 0.95833333 0.95833333 0.9375    ]\n",
      "Mean cross-validation accuracy: 0.9584183673469389\n",
      "Standard deviation of cross-validation accuracy: 0.013311014917924819\n"
     ]
    }
   ],
   "source": [
    "# Initialize the decision stump\n",
    "stump = DecisionTreeClassifier(max_depth=1, random_state=42)\n",
    "\n",
    "# Perform 5-fold cross-validation\n",
    "scores = cross_val_score(stump, X, y, cv=5)\n",
    "\n",
    "# Print the accuracy for each fold\n",
    "print(\"Accuracy for each fold:\")\n",
    "print(scores)\n",
    "\n",
    "# Print mean accuracy and standard deviation\n",
    "print(\"Mean cross-validation accuracy:\", scores.mean())\n",
    "print(\"Standard deviation of cross-validation accuracy:\", scores.std())"
   ]
  },
  {
   "cell_type": "markdown",
   "metadata": {},
   "source": [
    "As we can see, also the 5-fold cross validation brings exactly the same results as the logistic regression. It’s important to mention that I cannot guarantee that logistic regression and decision stump are always exactly the same (maybe there would be a few minor differences when using it on a larger dataset). But with our data it was always the same."
   ]
  },
  {
   "cell_type": "markdown",
   "metadata": {},
   "source": [
    "Let's plot a confusion matrix to vizualize what has been labeled correctly and incorrectly:"
   ]
  },
  {
   "cell_type": "markdown",
   "metadata": {},
   "source": [
    "### What does this show us?\n",
    "\n",
    "We have seen that we were able to achieve around 95% of accuracy (90% to 100% depending on the random state) with only a decision stump. A decision stump is probably the easiest machine learning model out there. And especially because of this simplicity it has a bunch of advantages. These advantages are not only a short runtime and low required resourced but also explainability. It can be explained very easily how this model comes to its accurate decision (even to people who are not not into data science). Further thougths on that can be found in the enclosed project report.\n",
    "\n",
    "At this point, I expect this model to be the best because of that. Nevertheless, I would like to try something that is very different. I will try to solve the same problem using a BERT transformer model."
   ]
  },
  {
   "cell_type": "markdown",
   "metadata": {},
   "source": [
    "# 5. Second approach: Transformer-based model"
   ]
  },
  {
   "cell_type": "markdown",
   "metadata": {},
   "source": [
    "I'm curious to find out whether a transformer model cannot achieve an accuracy which is a little better than the others. (A significant perfomance improvement seems to be not possible when looking at the accuracy from above.) I will train the model not only on the firstname but rather on the whole automatically transcribed predictions. Like that, the model can take more information into account. Maybe it can make sense of the profession or even the age and then improve the prediction based on that. However, I would be very surprised if that really improves anything.\n",
    "\n",
    "To fine-tune a BERT, the following things are important:\n",
    "- it is important to lowercase the text when training fine-tuning an uncased model\n",
    "- removal of special characters is not necessary and might even reduce the semantics / the meaning of the text\n",
    "- tokenization: it's important to use a BertTokenizer\n",
    "- stop word removal, stemming, lemmatization are usually not required\n",
    "\n",
    "When looking at these requirements, there is nothing specific that we need to change on our datasets, we just need to think about using the Bert Tokenizer.\n",
    "\n",
    "Please make sure that you have all the following packages installed in your environment if you want to run the remaining cells of the notebook."
   ]
  },
  {
   "cell_type": "code",
   "execution_count": 42,
   "metadata": {},
   "outputs": [],
   "source": [
    "# package import\n",
    "from transformers import BertTokenizer\n",
    "from torch.utils.data import Dataset, DataLoader\n",
    "from transformers import BertForSequenceClassification\n",
    "import torch\n",
    "from transformers import AdamW\n",
    "from tqdm import tqdm"
   ]
  },
  {
   "cell_type": "markdown",
   "metadata": {},
   "source": [
    "Let's just have a short look at the dataframe that we use for the training of our BERT classifier."
   ]
  },
  {
   "cell_type": "code",
   "execution_count": 43,
   "metadata": {},
   "outputs": [
    {
     "data": {
      "text/html": [
       "<div>\n",
       "<style scoped>\n",
       "    .dataframe tbody tr th:only-of-type {\n",
       "        vertical-align: middle;\n",
       "    }\n",
       "\n",
       "    .dataframe tbody tr th {\n",
       "        vertical-align: top;\n",
       "    }\n",
       "\n",
       "    .dataframe thead th {\n",
       "        text-align: right;\n",
       "    }\n",
       "</style>\n",
       "<table border=\"1\" class=\"dataframe\">\n",
       "  <thead>\n",
       "    <tr style=\"text-align: right;\">\n",
       "      <th></th>\n",
       "      <th>groundtruth</th>\n",
       "      <th>detected_text</th>\n",
       "      <th>target</th>\n",
       "      <th>extracted_firstname</th>\n",
       "      <th>name_found</th>\n",
       "      <th>corrected_firstname</th>\n",
       "      <th>name_length</th>\n",
       "      <th>gender_ratio</th>\n",
       "    </tr>\n",
       "  </thead>\n",
       "  <tbody>\n",
       "    <tr>\n",
       "      <th>0</th>\n",
       "      <td>surname: chardon firstname: marie occupation: idem link: fille age: 30</td>\n",
       "      <td>nom: chardon prénom: marie date_naissance: 30 lieux_naissance: \"</td>\n",
       "      <td>0</td>\n",
       "      <td>marie</td>\n",
       "      <td>True</td>\n",
       "      <td>marie</td>\n",
       "      <td>5</td>\n",
       "      <td>0.004226</td>\n",
       "    </tr>\n",
       "    <tr>\n",
       "      <th>1</th>\n",
       "      <td>surname: lhopital firstname: louis-jean occupation: sp link: chef age: 67</td>\n",
       "      <td>nom: lhopital prénom: louis jean date_naissance: 67 lieux_naissance: sn employeur: ahef</td>\n",
       "      <td>1</td>\n",
       "      <td>louis</td>\n",
       "      <td>True</td>\n",
       "      <td>louis</td>\n",
       "      <td>5</td>\n",
       "      <td>0.996389</td>\n",
       "    </tr>\n",
       "    <tr>\n",
       "      <th>2</th>\n",
       "      <td>surname: papin firstname: marie occupation: idem link: idem employer: idem age: 15</td>\n",
       "      <td>nom: pyrin prénom: marie date_naissance: 55 relation: d</td>\n",
       "      <td>0</td>\n",
       "      <td>marie</td>\n",
       "      <td>True</td>\n",
       "      <td>marie</td>\n",
       "      <td>5</td>\n",
       "      <td>0.004226</td>\n",
       "    </tr>\n",
       "    <tr>\n",
       "      <th>3</th>\n",
       "      <td>surname: lavocat firstname: marie link: femme birth_date: 1875 lob: rigny</td>\n",
       "      <td>nom: lavocat prénom: marie date_naissance: 1875 lieux_naissance: rigny profession: ''</td>\n",
       "      <td>0</td>\n",
       "      <td>marie</td>\n",
       "      <td>True</td>\n",
       "      <td>marie</td>\n",
       "      <td>5</td>\n",
       "      <td>0.004226</td>\n",
       "    </tr>\n",
       "    <tr>\n",
       "      <th>4</th>\n",
       "      <td>surname: benne firstname: marguerite age: 78</td>\n",
       "      <td>nom: benne prénom: marguerite date_naissance: 78 lieux_naissance: id relation: ''</td>\n",
       "      <td>0</td>\n",
       "      <td>marguerite</td>\n",
       "      <td>True</td>\n",
       "      <td>marguerite</td>\n",
       "      <td>10</td>\n",
       "      <td>0.001767</td>\n",
       "    </tr>\n",
       "  </tbody>\n",
       "</table>\n",
       "</div>"
      ],
      "text/plain": [
       "                                                                           groundtruth  \\\n",
       "0              surname: chardon firstname: marie occupation: idem link: fille age: 30    \n",
       "1           surname: lhopital firstname: louis-jean occupation: sp link: chef age: 67    \n",
       "2  surname: papin firstname: marie occupation: idem link: idem employer: idem age: 15    \n",
       "3           surname: lavocat firstname: marie link: femme birth_date: 1875 lob: rigny    \n",
       "4                                        surname: benne firstname: marguerite age: 78    \n",
       "\n",
       "                                                                              detected_text  \\\n",
       "0                         nom: chardon prénom: marie date_naissance: 30 lieux_naissance: \"    \n",
       "1  nom: lhopital prénom: louis jean date_naissance: 67 lieux_naissance: sn employeur: ahef    \n",
       "2                                  nom: pyrin prénom: marie date_naissance: 55 relation: d    \n",
       "3    nom: lavocat prénom: marie date_naissance: 1875 lieux_naissance: rigny profession: ''    \n",
       "4        nom: benne prénom: marguerite date_naissance: 78 lieux_naissance: id relation: ''    \n",
       "\n",
       "   target extracted_firstname  name_found corrected_firstname  name_length  \\\n",
       "0       0               marie        True               marie            5   \n",
       "1       1               louis        True               louis            5   \n",
       "2       0               marie        True               marie            5   \n",
       "3       0               marie        True               marie            5   \n",
       "4       0          marguerite        True          marguerite           10   \n",
       "\n",
       "   gender_ratio  \n",
       "0      0.004226  \n",
       "1      0.996389  \n",
       "2      0.004226  \n",
       "3      0.004226  \n",
       "4      0.001767  "
      ]
     },
     "execution_count": 43,
     "metadata": {},
     "output_type": "execute_result"
    }
   ],
   "source": [
    "# just display the dataframe that is used once more\n",
    "df_merged.head()"
   ]
  },
  {
   "cell_type": "markdown",
   "metadata": {},
   "source": [
    "Information on PyTorch datasets and dataloaders can for example be found here: https://pytorch.org/tutorials/beginner/basics/data_tutorial.html\n",
    "\n",
    "Information on the transformer tokenizer can be found here: https://huggingface.co/docs/transformers/main_classes/tokenizer\n",
    "\n",
    "The following cell sets up a PyTorch dataset and dataloader. It initializes a tokenizer to convert text into a format suitable for BERT, defines a custom dataset class to manage data extraction and preprocessing, and creates a dataloader to handle batching and shuffling of data for efficient model training."
   ]
  },
  {
   "cell_type": "code",
   "execution_count": 44,
   "metadata": {},
   "outputs": [],
   "source": [
    "# Initialize the tokenizer for 'bert-base-uncased'\n",
    "# converts text into tokens that can be used by the BERT model\n",
    "tokenizer = BertTokenizer.from_pretrained('bert-base-uncased')\n",
    "\n",
    "# Define a custom dataset class that inherits from PyTorch's Dataset class\n",
    "class CustomDataset(Dataset):\n",
    "    def __init__(self, dataframe):\n",
    "        # Constructor for the CustomDataset class to initialize its properties.\n",
    "        self.data = dataframe\n",
    "\n",
    "    def __len__(self):\n",
    "        # Return the total number of samples in the dataset\n",
    "        return len(self.data)\n",
    "\n",
    "    def __getitem__(self, idx):\n",
    "        # Extract data from the DataFrame for the given index\n",
    "        text = self.data.iloc[idx]['detected_text']\n",
    "        gender_ratio = self.data.iloc[idx]['gender_ratio']\n",
    "        target = self.data.iloc[idx]['target']\n",
    "\n",
    "        # BERT input formatting\n",
    "        inputs = tokenizer(text, padding='max_length', max_length=256, truncation=True, return_tensors=\"pt\")\n",
    "        input_ids = inputs['input_ids'].squeeze(0)\n",
    "        attention_mask = inputs['attention_mask'].squeeze(0)\n",
    "\n",
    "        # Return a dictionary of inputs and the target label\n",
    "        return {\n",
    "            'input_ids': input_ids,\n",
    "            'attention_mask': attention_mask,\n",
    "            'gender_ratio': gender_ratio,\n",
    "            'labels': torch.tensor(target, dtype=torch.long),\n",
    "            'text': text\n",
    "        }\n",
    "    \n",
    "    def get_labels(self):\n",
    "        # Method to retrieve ground truth labels\n",
    "        return self.data['target'].tolist()\n",
    "\n",
    "# Create an instance of the dataset with a merged DataFrame\n",
    "dataset = CustomDataset(df_merged)\n",
    "\n",
    "# Create a DataLoader to handle batching of data samples for model training\n",
    "# batch_size: Number of samples per batch to load (32 in this case)\n",
    "# shuffle: Set to True to have the data reshuffled at every epoch\n",
    "dataloader = DataLoader(dataset, batch_size=32, shuffle=True)"
   ]
  },
  {
   "cell_type": "markdown",
   "metadata": {},
   "source": [
    "Next, we initialize a pretrained uncased BERT model and configure it in a way that it can distinguish between two classes. It sets the model device to CPU as no GPU was available for training. (This can be adjusted if wished.)"
   ]
  },
  {
   "cell_type": "code",
   "execution_count": 45,
   "metadata": {},
   "outputs": [
    {
     "name": "stderr",
     "output_type": "stream",
     "text": [
      "Some weights of BertForSequenceClassification were not initialized from the model checkpoint at bert-base-uncased and are newly initialized: ['classifier.bias', 'classifier.weight']\n",
      "You should probably TRAIN this model on a down-stream task to be able to use it for predictions and inference.\n"
     ]
    },
    {
     "data": {
      "text/plain": [
       "BertForSequenceClassification(\n",
       "  (bert): BertModel(\n",
       "    (embeddings): BertEmbeddings(\n",
       "      (word_embeddings): Embedding(30522, 768, padding_idx=0)\n",
       "      (position_embeddings): Embedding(512, 768)\n",
       "      (token_type_embeddings): Embedding(2, 768)\n",
       "      (LayerNorm): LayerNorm((768,), eps=1e-12, elementwise_affine=True)\n",
       "      (dropout): Dropout(p=0.1, inplace=False)\n",
       "    )\n",
       "    (encoder): BertEncoder(\n",
       "      (layer): ModuleList(\n",
       "        (0-11): 12 x BertLayer(\n",
       "          (attention): BertAttention(\n",
       "            (self): BertSelfAttention(\n",
       "              (query): Linear(in_features=768, out_features=768, bias=True)\n",
       "              (key): Linear(in_features=768, out_features=768, bias=True)\n",
       "              (value): Linear(in_features=768, out_features=768, bias=True)\n",
       "              (dropout): Dropout(p=0.1, inplace=False)\n",
       "            )\n",
       "            (output): BertSelfOutput(\n",
       "              (dense): Linear(in_features=768, out_features=768, bias=True)\n",
       "              (LayerNorm): LayerNorm((768,), eps=1e-12, elementwise_affine=True)\n",
       "              (dropout): Dropout(p=0.1, inplace=False)\n",
       "            )\n",
       "          )\n",
       "          (intermediate): BertIntermediate(\n",
       "            (dense): Linear(in_features=768, out_features=3072, bias=True)\n",
       "            (intermediate_act_fn): GELUActivation()\n",
       "          )\n",
       "          (output): BertOutput(\n",
       "            (dense): Linear(in_features=3072, out_features=768, bias=True)\n",
       "            (LayerNorm): LayerNorm((768,), eps=1e-12, elementwise_affine=True)\n",
       "            (dropout): Dropout(p=0.1, inplace=False)\n",
       "          )\n",
       "        )\n",
       "      )\n",
       "    )\n",
       "    (pooler): BertPooler(\n",
       "      (dense): Linear(in_features=768, out_features=768, bias=True)\n",
       "      (activation): Tanh()\n",
       "    )\n",
       "  )\n",
       "  (dropout): Dropout(p=0.1, inplace=False)\n",
       "  (classifier): Linear(in_features=768, out_features=2, bias=True)\n",
       ")"
      ]
     },
     "execution_count": 45,
     "metadata": {},
     "output_type": "execute_result"
    }
   ],
   "source": [
    "# Initialize BERT with a classification head\n",
    "model = BertForSequenceClassification.from_pretrained('bert-base-uncased', num_labels=2)  # num_labels = 2 for binary classification\n",
    "\n",
    "# Select CPU as device (I don't have any GPU available)\n",
    "device = torch.device(\"cpu\")\n",
    "model.to(device)"
   ]
  },
  {
   "cell_type": "markdown",
   "metadata": {},
   "source": [
    "Information on the AdamW optimizer can for example be found here: https://huggingface.co/docs/bitsandbytes/main/en/reference/optim/adamw\n",
    "\n",
    "Information on how to train a PyTorch classifier can for example be found here: https://pytorch.org/tutorials/beginner/blitz/cifar10_tutorial.html\n",
    "\n",
    "This code sets up and runs the training process for a BERT model for binary classification. It starts by initializing an optimizer for model parameters using a specific learning rate. The dataset is split into training and testing sets, and corresponding dataloaders are created to manage data batching and loading during training and testing phases. The model uses 20 epochs for training leading to a rather small loss in the end."
   ]
  },
  {
   "cell_type": "code",
   "execution_count": 46,
   "metadata": {},
   "outputs": [
    {
     "name": "stderr",
     "output_type": "stream",
     "text": [
      "/opt/anaconda3/envs/ensae_nlp_env/lib/python3.12/site-packages/transformers/optimization.py:521: FutureWarning: This implementation of AdamW is deprecated and will be removed in a future version. Use the PyTorch implementation torch.optim.AdamW instead, or set `no_deprecation_warning=True` to disable this warning\n",
      "  warnings.warn(\n",
      "100%|██████████| 6/6 [00:51<00:00,  8.56s/it]\n"
     ]
    },
    {
     "name": "stdout",
     "output_type": "stream",
     "text": [
      "Epoch 1, Loss: 0.6881997386614481\n"
     ]
    },
    {
     "name": "stderr",
     "output_type": "stream",
     "text": [
      "100%|██████████| 6/6 [00:49<00:00,  8.19s/it]\n"
     ]
    },
    {
     "name": "stdout",
     "output_type": "stream",
     "text": [
      "Epoch 2, Loss: 0.6525344749291738\n"
     ]
    },
    {
     "name": "stderr",
     "output_type": "stream",
     "text": [
      "100%|██████████| 6/6 [00:49<00:00,  8.30s/it]\n"
     ]
    },
    {
     "name": "stdout",
     "output_type": "stream",
     "text": [
      "Epoch 3, Loss: 0.5889157950878143\n"
     ]
    },
    {
     "name": "stderr",
     "output_type": "stream",
     "text": [
      "100%|██████████| 6/6 [00:49<00:00,  8.20s/it]\n"
     ]
    },
    {
     "name": "stdout",
     "output_type": "stream",
     "text": [
      "Epoch 4, Loss: 0.4800254652897517\n"
     ]
    },
    {
     "name": "stderr",
     "output_type": "stream",
     "text": [
      "100%|██████████| 6/6 [00:48<00:00,  8.13s/it]\n"
     ]
    },
    {
     "name": "stdout",
     "output_type": "stream",
     "text": [
      "Epoch 5, Loss: 0.2738666906952858\n"
     ]
    },
    {
     "name": "stderr",
     "output_type": "stream",
     "text": [
      "100%|██████████| 6/6 [00:48<00:00,  8.10s/it]\n"
     ]
    },
    {
     "name": "stdout",
     "output_type": "stream",
     "text": [
      "Epoch 6, Loss: 0.1472624440987905\n"
     ]
    },
    {
     "name": "stderr",
     "output_type": "stream",
     "text": [
      "100%|██████████| 6/6 [00:49<00:00,  8.29s/it]\n"
     ]
    },
    {
     "name": "stdout",
     "output_type": "stream",
     "text": [
      "Epoch 7, Loss: 0.09957132178048293\n"
     ]
    },
    {
     "name": "stderr",
     "output_type": "stream",
     "text": [
      "100%|██████████| 6/6 [00:50<00:00,  8.44s/it]\n"
     ]
    },
    {
     "name": "stdout",
     "output_type": "stream",
     "text": [
      "Epoch 8, Loss: 0.06204489183922609\n"
     ]
    },
    {
     "name": "stderr",
     "output_type": "stream",
     "text": [
      "100%|██████████| 6/6 [00:49<00:00,  8.21s/it]\n"
     ]
    },
    {
     "name": "stdout",
     "output_type": "stream",
     "text": [
      "Epoch 9, Loss: 0.035742249650259815\n"
     ]
    },
    {
     "name": "stderr",
     "output_type": "stream",
     "text": [
      "100%|██████████| 6/6 [00:49<00:00,  8.32s/it]\n"
     ]
    },
    {
     "name": "stdout",
     "output_type": "stream",
     "text": [
      "Epoch 10, Loss: 0.030557054715851944\n"
     ]
    },
    {
     "name": "stderr",
     "output_type": "stream",
     "text": [
      "100%|██████████| 6/6 [00:49<00:00,  8.20s/it]\n"
     ]
    },
    {
     "name": "stdout",
     "output_type": "stream",
     "text": [
      "Epoch 11, Loss: 0.01657043754433592\n"
     ]
    },
    {
     "name": "stderr",
     "output_type": "stream",
     "text": [
      "100%|██████████| 6/6 [00:49<00:00,  8.22s/it]\n"
     ]
    },
    {
     "name": "stdout",
     "output_type": "stream",
     "text": [
      "Epoch 12, Loss: 0.01172170244778196\n"
     ]
    },
    {
     "name": "stderr",
     "output_type": "stream",
     "text": [
      "100%|██████████| 6/6 [00:50<00:00,  8.40s/it]\n"
     ]
    },
    {
     "name": "stdout",
     "output_type": "stream",
     "text": [
      "Epoch 13, Loss: 0.04294340576355656\n"
     ]
    },
    {
     "name": "stderr",
     "output_type": "stream",
     "text": [
      "100%|██████████| 6/6 [00:50<00:00,  8.33s/it]\n"
     ]
    },
    {
     "name": "stdout",
     "output_type": "stream",
     "text": [
      "Epoch 14, Loss: 0.02275369440515836\n"
     ]
    },
    {
     "name": "stderr",
     "output_type": "stream",
     "text": [
      "100%|██████████| 6/6 [00:52<00:00,  8.69s/it]\n"
     ]
    },
    {
     "name": "stdout",
     "output_type": "stream",
     "text": [
      "Epoch 15, Loss: 0.014687586498136321\n"
     ]
    },
    {
     "name": "stderr",
     "output_type": "stream",
     "text": [
      "100%|██████████| 6/6 [00:48<00:00,  8.15s/it]\n"
     ]
    },
    {
     "name": "stdout",
     "output_type": "stream",
     "text": [
      "Epoch 16, Loss: 0.007976063061505556\n"
     ]
    },
    {
     "name": "stderr",
     "output_type": "stream",
     "text": [
      "100%|██████████| 6/6 [00:48<00:00,  8.00s/it]\n"
     ]
    },
    {
     "name": "stdout",
     "output_type": "stream",
     "text": [
      "Epoch 17, Loss: 0.0066981759543220205\n"
     ]
    },
    {
     "name": "stderr",
     "output_type": "stream",
     "text": [
      "100%|██████████| 6/6 [00:49<00:00,  8.27s/it]\n"
     ]
    },
    {
     "name": "stdout",
     "output_type": "stream",
     "text": [
      "Epoch 18, Loss: 0.005745590664446354\n"
     ]
    },
    {
     "name": "stderr",
     "output_type": "stream",
     "text": [
      "100%|██████████| 6/6 [00:48<00:00,  8.09s/it]\n"
     ]
    },
    {
     "name": "stdout",
     "output_type": "stream",
     "text": [
      "Epoch 19, Loss: 0.007789018951977293\n"
     ]
    },
    {
     "name": "stderr",
     "output_type": "stream",
     "text": [
      "100%|██████████| 6/6 [00:51<00:00,  8.54s/it]"
     ]
    },
    {
     "name": "stdout",
     "output_type": "stream",
     "text": [
      "Epoch 20, Loss: 0.00444904004689306\n"
     ]
    },
    {
     "name": "stderr",
     "output_type": "stream",
     "text": [
      "\n"
     ]
    }
   ],
   "source": [
    "optimizer = AdamW(model.parameters(), lr=2e-5)\n",
    "\n",
    "# Split dataset into train and test sets\n",
    "train_df, test_df = train_test_split(df_merged, test_size=0.2, random_state=42)  # Adjust test_size as needed\n",
    "\n",
    "# Create dataloaders for train and test sets\n",
    "train_dataset = CustomDataset(train_df)\n",
    "train_dataloader = DataLoader(train_dataset, batch_size=32, shuffle=True)\n",
    "\n",
    "test_dataset = CustomDataset(test_df)\n",
    "test_dataloader = DataLoader(test_dataset, batch_size=32, shuffle=False)  # No need to shuffle for testing\n",
    "\n",
    "for epoch in range(20):  # Number of epochs\n",
    "    model.train()\n",
    "    total_loss = 0\n",
    "    for batch in tqdm(train_dataloader):\n",
    "        # Move only tensor objects to the device\n",
    "        input_ids = batch['input_ids'].to(device)\n",
    "        attention_mask = batch['attention_mask'].to(device)\n",
    "        labels = batch['labels'].to(device)\n",
    "\n",
    "        # Perform forward propagation\n",
    "        outputs = model(input_ids=input_ids, attention_mask=attention_mask, labels=labels)\n",
    "\n",
    "        # Extract the loss and perform backpropagation\n",
    "        loss = outputs.loss\n",
    "        total_loss += loss.item()\n",
    "        loss.backward()\n",
    "        optimizer.step()\n",
    "        optimizer.zero_grad()\n",
    "\n",
    "    # Print average loss for the epoch\n",
    "    print(f'Epoch {epoch+1}, Loss: {total_loss/len(train_dataloader)}')"
   ]
  },
  {
   "cell_type": "markdown",
   "metadata": {},
   "source": [
    "The following cell allows to evaluate the model on the test set:"
   ]
  },
  {
   "cell_type": "code",
   "execution_count": 47,
   "metadata": {},
   "outputs": [],
   "source": [
    "# Evaluate the model on the test set\n",
    "\n",
    "# Switch the model to evaluation mode\n",
    "model.eval()\n",
    "\n",
    "for batch in test_dataloader:\n",
    "    # Move only tensor objects to the device\n",
    "    input_ids = batch['input_ids'].to(device)\n",
    "    attention_mask = batch['attention_mask'].to(device)\n",
    "    labels = batch['labels'].to(device)\n",
    "\n",
    "    # Disable gradient calculations to reduce memory usage\n",
    "    with torch.no_grad():\n",
    "        # Forward pass through the model to get the logits\n",
    "        outputs = model(input_ids=batch['input_ids'], attention_mask=batch['attention_mask'])\n",
    "\n",
    "    # Extract logits from the model outputs\n",
    "    logits = outputs.logits\n",
    "\n",
    "    # Convert logits to predicted classes by finding the index (class) with the maximum logit score\n",
    "    predictions = torch.argmax(logits, dim=-1)"
   ]
  },
  {
   "cell_type": "markdown",
   "metadata": {},
   "source": [
    "Let's create a dataframe based on the predictions so that we can have a clean output down below."
   ]
  },
  {
   "cell_type": "code",
   "execution_count": 48,
   "metadata": {},
   "outputs": [],
   "source": [
    "# First, ensure all test predictions are gathered\n",
    "all_preds = []\n",
    "all_true_labels = []\n",
    "all_texts = []\n",
    "all_firstnames = []\n",
    "\n",
    "for batch in test_dataloader:\n",
    "\n",
    "    # Move only tensor objects to the device\n",
    "    input_ids = batch['input_ids'].to(device)\n",
    "    attention_mask = batch['attention_mask'].to(device)\n",
    "    labels = batch['labels'].to(device)\n",
    "\n",
    "    with torch.no_grad():\n",
    "        outputs = model(input_ids=batch['input_ids'], attention_mask=batch['attention_mask'])\n",
    "\n",
    "    logits = outputs.logits\n",
    "    predictions = torch.argmax(logits, dim=-1)\n",
    "\n",
    "    all_preds.extend(predictions.cpu().numpy())\n",
    "    all_true_labels.extend(batch['labels'].cpu().numpy())\n",
    "    all_texts.extend(batch['text'])\n",
    "    #all_firstnames.extend(batch['firstname'])\n",
    "\n",
    "# Now, create a DataFrame with this data\n",
    "results_df = pd.DataFrame({\n",
    "    'Detected Text': all_texts,\n",
    "    'True Label': all_true_labels,\n",
    "    'Predicted Label': all_preds\n",
    "})"
   ]
  },
  {
   "cell_type": "code",
   "execution_count": 49,
   "metadata": {},
   "outputs": [
    {
     "data": {
      "text/html": [
       "<div>\n",
       "<style scoped>\n",
       "    .dataframe tbody tr th:only-of-type {\n",
       "        vertical-align: middle;\n",
       "    }\n",
       "\n",
       "    .dataframe tbody tr th {\n",
       "        vertical-align: top;\n",
       "    }\n",
       "\n",
       "    .dataframe thead th {\n",
       "        text-align: right;\n",
       "    }\n",
       "</style>\n",
       "<table border=\"1\" class=\"dataframe\">\n",
       "  <thead>\n",
       "    <tr style=\"text-align: right;\">\n",
       "      <th></th>\n",
       "      <th>Detected Text</th>\n",
       "      <th>True Label</th>\n",
       "      <th>Predicted Label</th>\n",
       "    </tr>\n",
       "  </thead>\n",
       "  <tbody>\n",
       "    <tr>\n",
       "      <th>0</th>\n",
       "      <td>nom: debouese prénom: herandre date_naissance: 42 lieux_naissance: chef profession: patron</td>\n",
       "      <td>1</td>\n",
       "      <td>1</td>\n",
       "    </tr>\n",
       "    <tr>\n",
       "      <th>1</th>\n",
       "      <td>nom: d° prénom: louis date_naissance: 9 lieux_naissance: d° relation: f</td>\n",
       "      <td>1</td>\n",
       "      <td>1</td>\n",
       "    </tr>\n",
       "    <tr>\n",
       "      <th>2</th>\n",
       "      <td>nom: mimerel prénom: pierre date_naissance: 88 lieux_naissance: d</td>\n",
       "      <td>1</td>\n",
       "      <td>1</td>\n",
       "    </tr>\n",
       "    <tr>\n",
       "      <th>3</th>\n",
       "      <td>nom: aubouier prénom: claudine date_naissance: 1884 lieux_naissance: vinistère état_civil: marnt employeur: c</td>\n",
       "      <td>0</td>\n",
       "      <td>0</td>\n",
       "    </tr>\n",
       "    <tr>\n",
       "      <th>4</th>\n",
       "      <td>nom: burlurut prénom: gihromille date_naissance: 61 lieux_naissance: épouse relation: sans mof</td>\n",
       "      <td>0</td>\n",
       "      <td>0</td>\n",
       "    </tr>\n",
       "  </tbody>\n",
       "</table>\n",
       "</div>"
      ],
      "text/plain": [
       "                                                                                                    Detected Text  \\\n",
       "0                     nom: debouese prénom: herandre date_naissance: 42 lieux_naissance: chef profession: patron    \n",
       "1                                        nom: d° prénom: louis date_naissance: 9 lieux_naissance: d° relation: f    \n",
       "2                                              nom: mimerel prénom: pierre date_naissance: 88 lieux_naissance: d    \n",
       "3  nom: aubouier prénom: claudine date_naissance: 1884 lieux_naissance: vinistère état_civil: marnt employeur: c    \n",
       "4                 nom: burlurut prénom: gihromille date_naissance: 61 lieux_naissance: épouse relation: sans mof    \n",
       "\n",
       "   True Label  Predicted Label  \n",
       "0           1                1  \n",
       "1           1                1  \n",
       "2           1                1  \n",
       "3           0                0  \n",
       "4           0                0  "
      ]
     },
     "execution_count": 49,
     "metadata": {},
     "output_type": "execute_result"
    }
   ],
   "source": [
    "results_df.head()"
   ]
  },
  {
   "cell_type": "code",
   "execution_count": 50,
   "metadata": {},
   "outputs": [
    {
     "data": {
      "text/html": [
       "<div>\n",
       "<style scoped>\n",
       "    .dataframe tbody tr th:only-of-type {\n",
       "        vertical-align: middle;\n",
       "    }\n",
       "\n",
       "    .dataframe tbody tr th {\n",
       "        vertical-align: top;\n",
       "    }\n",
       "\n",
       "    .dataframe thead th {\n",
       "        text-align: right;\n",
       "    }\n",
       "</style>\n",
       "<table border=\"1\" class=\"dataframe\">\n",
       "  <thead>\n",
       "    <tr style=\"text-align: right;\">\n",
       "      <th></th>\n",
       "      <th>Detected Text</th>\n",
       "      <th>True Label</th>\n",
       "      <th>Predicted Label</th>\n",
       "    </tr>\n",
       "  </thead>\n",
       "  <tbody>\n",
       "    <tr>\n",
       "      <th>6</th>\n",
       "      <td>nom: boutot prénom: faul date_naissance: 16 lieux_naissance: donnest relation: domest profession: lavane</td>\n",
       "      <td>0</td>\n",
       "      <td>1</td>\n",
       "    </tr>\n",
       "    <tr>\n",
       "      <th>34</th>\n",
       "      <td>nom: vivier prénom: angène date_naissance: 180n lieux_naissance: aulgique état_civil: d relation: ch</td>\n",
       "      <td>1</td>\n",
       "      <td>0</td>\n",
       "    </tr>\n",
       "  </tbody>\n",
       "</table>\n",
       "</div>"
      ],
      "text/plain": [
       "                                                                                                Detected Text  \\\n",
       "6   nom: boutot prénom: faul date_naissance: 16 lieux_naissance: donnest relation: domest profession: lavane    \n",
       "34      nom: vivier prénom: angène date_naissance: 180n lieux_naissance: aulgique état_civil: d relation: ch    \n",
       "\n",
       "    True Label  Predicted Label  \n",
       "6            0                1  \n",
       "34           1                0  "
      ]
     },
     "execution_count": 50,
     "metadata": {},
     "output_type": "execute_result"
    }
   ],
   "source": [
    "results_df[results_df['True Label'] != results_df['Predicted Label']]"
   ]
  },
  {
   "cell_type": "code",
   "execution_count": 51,
   "metadata": {},
   "outputs": [
    {
     "name": "stdout",
     "output_type": "stream",
     "text": [
      "Accuracy: 0.9591836734693877\n"
     ]
    }
   ],
   "source": [
    "print(f'Accuracy: {1 - len(results_df[results_df['True Label'] != results_df['Predicted Label']]) / len(results_df)}')"
   ]
  },
  {
   "cell_type": "code",
   "execution_count": 52,
   "metadata": {},
   "outputs": [
    {
     "data": {
      "image/png": "[encoded data removed]",
      "text/plain": [
       "<Figure size 640x480 with 2 Axes>"
      ]
     },
     "metadata": {},
     "output_type": "display_data"
    }
   ],
   "source": [
    "cm = confusion_matrix(results_df['True Label'], results_df['Predicted Label'])\n",
    "disp = ConfusionMatrixDisplay(confusion_matrix=cm)\n",
    "disp.plot()\n",
    "plt.show()"
   ]
  },
  {
   "cell_type": "markdown",
   "metadata": {},
   "source": [
    "These evaluations of the BERT classifier show very similar results to the more simple models from earlier. We see that taking into account the entire detected text instead of only the gender ratio shows very good results as well. However the results are not better than with the decision stump or the logistic regression. I assume that the results could be improved a little by further preprocessing or more finetuning. However, it is likely that the results are just getting as good as those of the decision stump in the best case.\n",
    "\n",
    "It arises the question whether it is worth spending a multiple of the computing resources to finetune a pretrained BERT classifier if that leads to the same results. I'm arguing that this is not the case. As we have seen throughout this notebook, we are dealing with a simple problem that asks for a simple solution, especially because we can achieve very high results with just using a single feature after clean data preprocessing and feature engineering. A further discussion is provided in the enclosed report on this project."
   ]
  }
 ],
 "metadata": {
  "kernelspec": {
   "display_name": "base",
   "language": "python",
   "name": "python3"
  },
  "language_info": {
   "codemirror_mode": {
    "name": "ipython",
    "version": 3
   },
   "file_extension": ".py",
   "mimetype": "text/x-python",
   "name": "python",
   "nbconvert_exporter": "python",
   "pygments_lexer": "ipython3",
   "version": "3.12.2"
  }
 },
 "nbformat": 4,
 "nbformat_minor": 2
}
